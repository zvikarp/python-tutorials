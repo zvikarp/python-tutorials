{
  "nbformat": 4,
  "nbformat_minor": 0,
  "metadata": {
    "kernelspec": {
      "display_name": "Python 3",
      "language": "python",
      "name": "python3"
    },
    "language_info": {
      "codemirror_mode": {
        "name": "ipython",
        "version": 3
      },
      "file_extension": ".py",
      "mimetype": "text/x-python",
      "name": "python",
      "nbconvert_exporter": "python",
      "pygments_lexer": "ipython3",
      "version": "3.6.8"
    },
    "colab": {
      "name": "exercise 1.ipynb",
      "provenance": [],
      "include_colab_link": true
    }
  },
  "cells": [
    {
      "cell_type": "markdown",
      "metadata": {
        "id": "view-in-github",
        "colab_type": "text"
      },
      "source": [
        "<a href=\"https://colab.research.google.com/github/zvikarp/python-tutorials/blob/master/exercise_1.ipynb\" target=\"_parent\"><img src=\"https://colab.research.google.com/assets/colab-badge.svg\" alt=\"Open In Colab\"/></a>"
      ]
    },
    {
      "cell_type": "code",
      "metadata": {
        "ExecuteTime": {
          "end_time": "2016-03-08T00:02:46.603000",
          "start_time": "2016-03-08T00:02:46.418000"
        },
        "id": "zHc81rwvCoBo",
        "colab_type": "code",
        "colab": {}
      },
      "source": [
        "from libs import slowpandas as spd\n",
        "import re\n",
        "import math"
      ],
      "execution_count": 0,
      "outputs": []
    },
    {
      "cell_type": "markdown",
      "metadata": {
        "id": "c1LfrUM1CoBw",
        "colab_type": "text"
      },
      "source": [
        "$$Score_t=Score_{t-1}+{Ge^{\\varphi\\pi^2}\\cdot \\frac{Points_{t}}{\\sqrt{Points_{t-1}}}}$$"
      ]
    },
    {
      "cell_type": "markdown",
      "metadata": {
        "id": "3hPHE62gCoBx",
        "colab_type": "text"
      },
      "source": [
        "# Exercise 01\n",
        "    Python Advance Basics"
      ]
    },
    {
      "cell_type": "markdown",
      "metadata": {
        "id": "E5hd0BpzCoBy",
        "colab_type": "text"
      },
      "source": [
        "## Q1\n",
        "You will need to practice string theory."
      ]
    },
    {
      "cell_type": "markdown",
      "metadata": {
        "ExecuteTime": {
          "end_time": "2016-03-07T23:21:49.226000",
          "start_time": "2016-03-07T23:21:49.225000"
        },
        "id": "L1UTUXnnCoB0",
        "colab_type": "text"
      },
      "source": [
        "    1. Guns&Roses are back. Create a string with 10 back-slashes and print it. FIND AS MANY WAYS POSSIBLE"
      ]
    },
    {
      "cell_type": "code",
      "metadata": {
        "id": "geK3y1VQCoB1",
        "colab_type": "code",
        "colab": {}
      },
      "source": [
        ""
      ],
      "execution_count": 0,
      "outputs": []
    },
    {
      "cell_type": "markdown",
      "metadata": {
        "id": "KrAYAmjMCoB5",
        "colab_type": "text"
      },
      "source": [
        "    2. Print math.pi with 0,1,2,3,...,15 decimal points. \n",
        "        a. 2 LINES OF CODE ONLY\n",
        "        b. NO MOD\n",
        "        c. NO ROUND"
      ]
    },
    {
      "cell_type": "code",
      "metadata": {
        "id": "IsW-44MzCoB6",
        "colab_type": "code",
        "colab": {}
      },
      "source": [
        ""
      ],
      "execution_count": 0,
      "outputs": []
    },
    {
      "cell_type": "markdown",
      "metadata": {
        "id": "kAiNhySMCoB-",
        "colab_type": "text"
      },
      "source": [
        "    3. We must do slow stuff! Call spd.do_slow_stuff.\n",
        "        a. Print progress in percentage with 2 decimal points\n",
        "        b. NO NEW LINES IN OUTPUT"
      ]
    },
    {
      "cell_type": "code",
      "metadata": {
        "id": "0e8_aSpQCoCA",
        "colab_type": "code",
        "colab": {}
      },
      "source": [
        ""
      ],
      "execution_count": 0,
      "outputs": []
    },
    {
      "cell_type": "markdown",
      "metadata": {
        "id": "_UKYv-THCoCD",
        "colab_type": "text"
      },
      "source": [
        "## Q2\n",
        "It's women's day! So lets deal with Objects."
      ]
    },
    {
      "cell_type": "markdown",
      "metadata": {
        "id": "R5ouklOtCoCF",
        "colab_type": "text"
      },
      "source": [
        "    1. Write a Date class\n",
        "        a. you can save only milliseconds as data member\n",
        "        b. these operators must work: < > == != + - ...\n",
        "        c. you can access fields using a key: date['day'], date['month']"
      ]
    },
    {
      "cell_type": "code",
      "metadata": {
        "id": "GkGAe9P8CoCG",
        "colab_type": "code",
        "colab": {}
      },
      "source": [
        "class Date:\n",
        "    __init__(self, mil):\n",
        "        self.time = mil\n",
        "    \n",
        "    __add__(self, other):\n",
        "        return Date(self.time + other.time)\n",
        "    \n",
        "    __eq__(self, other):\n",
        "        return self.time == other.time\n",
        "    \n",
        "    __lt__(self, other):\n",
        "        return self.time < other.time\n",
        "    \n",
        "    __gt__(self, other):\n",
        "        return self.time > other.time\n",
        "\n",
        "    __ne__(self, other):\n",
        "        return self.time != other.time\n",
        "    \n",
        "    __add__(self, other):\n",
        "        return Date(self.time - other.time)\n",
        "    \n",
        "    __getitem__(self, key):\n",
        "        if key == 'day':\n",
        "            return math.ceil(mil/()"
      ],
      "execution_count": 0,
      "outputs": []
    },
    {
      "cell_type": "markdown",
      "metadata": {
        "id": "-TF8WOu7CoCJ",
        "colab_type": "text"
      },
      "source": [
        "    2. Create a list of 240 dates, one date for each hour since 10 days ago.\n",
        "        a. ONE LINE OF CODE ALLOWED"
      ]
    },
    {
      "cell_type": "code",
      "metadata": {
        "id": "74_heDWgCoCK",
        "colab_type": "code",
        "colab": {}
      },
      "source": [
        ""
      ],
      "execution_count": 0,
      "outputs": []
    },
    {
      "cell_type": "markdown",
      "metadata": {
        "id": "lweU-c1ICoCN",
        "colab_type": "text"
      },
      "source": [
        "    3. Filter your list with these queries:\n",
        "        a. Skip a day\n",
        "        b. Take only the 8'th day\n",
        "        c. Take odd hours only\n",
        "        \n",
        "        *** ONE LINE OF CODE ALLOWED FOR EACH QUERY***"
      ]
    },
    {
      "cell_type": "code",
      "metadata": {
        "ExecuteTime": {
          "end_time": "2016-03-08T00:25:22.109000",
          "start_time": "2016-03-08T00:25:22.108000"
        },
        "id": "m3PuaYBGCoCO",
        "colab_type": "code",
        "colab": {}
      },
      "source": [
        ""
      ],
      "execution_count": 0,
      "outputs": []
    },
    {
      "cell_type": "markdown",
      "metadata": {
        "id": "1UTUocv2CoCS",
        "colab_type": "text"
      },
      "source": [
        "## Q3\n",
        "A top secret agent got his hand on the file 'big_brother.txt'. You will need to help him understand what the file is about."
      ]
    },
    {
      "cell_type": "markdown",
      "metadata": {
        "id": "I7XZFuzNCoCT",
        "colab_type": "text"
      },
      "source": [
        "    1. Read the file located in the 'data' directory and print it. Is it OK?"
      ]
    },
    {
      "cell_type": "code",
      "metadata": {
        "id": "v7XoFtkSCoCU",
        "colab_type": "code",
        "colab": {}
      },
      "source": [
        ""
      ],
      "execution_count": 0,
      "outputs": []
    },
    {
      "cell_type": "markdown",
      "metadata": {
        "id": "NhnFve8_CoCX",
        "colab_type": "text"
      },
      "source": [
        "    2. That isn't ok. Our intell suggest that this file was taken from the crazy latins which known for decoding things with 'ISO-8859-1'. FIX THE DATA\n",
        "        Hint: Is the data unicode? try type('hello') vs type(u'hello')  "
      ]
    },
    {
      "cell_type": "code",
      "metadata": {
        "id": "IYWK5ch2CoCY",
        "colab_type": "code",
        "colab": {}
      },
      "source": [
        ""
      ],
      "execution_count": 0,
      "outputs": []
    },
    {
      "cell_type": "markdown",
      "metadata": {
        "id": "GGDe7Hf4CoCb",
        "colab_type": "text"
      },
      "source": [
        "    3. A gold mine! Your next task is to turn this data into entities using python classes.\n",
        "        Hint: classes are NOT DataFrame - you need User, Message, Date ..."
      ]
    },
    {
      "cell_type": "code",
      "metadata": {
        "id": "fEt2tgipCoCb",
        "colab_type": "code",
        "colab": {}
      },
      "source": [
        ""
      ],
      "execution_count": 0,
      "outputs": []
    },
    {
      "cell_type": "markdown",
      "metadata": {
        "id": "OzYb4KW3CoCf",
        "colab_type": "text"
      },
      "source": [
        "    4. Classy. Now turn your classes into a SlowDataFrame. Oh! Not before you save them to a file first... \n",
        "        *** ALL DATA IN ONE FILE ***"
      ]
    },
    {
      "cell_type": "code",
      "metadata": {
        "id": "9kQWbt1xCoCh",
        "colab_type": "code",
        "colab": {}
      },
      "source": [
        ""
      ],
      "execution_count": 0,
      "outputs": []
    },
    {
      "cell_type": "markdown",
      "metadata": {
        "id": "jMmjnVgKCoCo",
        "colab_type": "text"
      },
      "source": [
        "    5. Extract date features: day, month, year, hour, min, sec\n",
        "        ONLY USING 'apply' - ONE LINE OF CODE PER FEATURE\n",
        "         *** NOTE: slowpandas is quite slow... you MUST output the progress ***"
      ]
    },
    {
      "cell_type": "code",
      "metadata": {
        "id": "hBKMZcM9CoCp",
        "colab_type": "code",
        "colab": {}
      },
      "source": [
        ""
      ],
      "execution_count": 0,
      "outputs": []
    },
    {
      "cell_type": "markdown",
      "metadata": {
        "ExecuteTime": {
          "end_time": "2016-03-08T00:32:56.360000",
          "start_time": "2016-03-08T00:32:56.359000"
        },
        "id": "fnBRQ1hxCoCr",
        "colab_type": "text"
      },
      "source": [
        "    6. Plot a graph for each user showing his activity hour-wise (mean)\n",
        "        *** ALL GRAPHS IN ONE NOTEBOOK CELL ***"
      ]
    },
    {
      "cell_type": "code",
      "metadata": {
        "id": "EBOPNUwsCoCs",
        "colab_type": "code",
        "colab": {}
      },
      "source": [
        ""
      ],
      "execution_count": 0,
      "outputs": []
    },
    {
      "cell_type": "markdown",
      "metadata": {
        "id": "ust1fPX2CoCv",
        "colab_type": "text"
      },
      "source": [
        "    7. What is the 10 most common used words for each user?\n",
        "        *** NO EXTERNAL LIBS ALLOWED ***"
      ]
    },
    {
      "cell_type": "code",
      "metadata": {
        "id": "3yEiT4a9CoCw",
        "colab_type": "code",
        "colab": {}
      },
      "source": [
        ""
      ],
      "execution_count": 0,
      "outputs": []
    }
  ]
}