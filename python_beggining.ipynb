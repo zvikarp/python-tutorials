{
  "nbformat": 4,
  "nbformat_minor": 0,
  "metadata": {
    "kernelspec": {
      "display_name": "Python 3",
      "language": "python",
      "name": "python3"
    },
    "language_info": {
      "codemirror_mode": {
        "name": "ipython",
        "version": 3
      },
      "file_extension": ".py",
      "mimetype": "text/x-python",
      "name": "python",
      "nbconvert_exporter": "python",
      "pygments_lexer": "ipython3",
      "version": "3.6.8"
    },
    "colab": {
      "name": "python beggining.ipynb",
      "provenance": [],
      "collapsed_sections": [
        "Lt7KpzyT5Que"
      ],
      "include_colab_link": true
    }
  },
  "cells": [
    {
      "cell_type": "markdown",
      "metadata": {
        "id": "view-in-github",
        "colab_type": "text"
      },
      "source": [
        "<a href=\"https://colab.research.google.com/github/zvikarp/python-basics/blob/master/python_beggining.ipynb\" target=\"_parent\"><img src=\"https://colab.research.google.com/assets/colab-badge.svg\" alt=\"Open In Colab\"/></a>"
      ]
    },
    {
      "cell_type": "markdown",
      "metadata": {
        "id": "JKfhG4FA5Qp2",
        "colab_type": "text"
      },
      "source": [
        "# Python exercises to begin with\n",
        "Here you will find a lot of simple python exercises, for you to feel comfortable around python and jupyter notebook. No need to do them all! but still, they are here for you to practice your skills, so make sure you finish only when you fill comfortable around.\n",
        "\n",
        "Note: take a look at the few examples for recursion  at the end of the list.\n",
        "\n",
        "\n",
        "-----------------------------------"
      ]
    },
    {
      "cell_type": "markdown",
      "metadata": {
        "id": "2LNq7BI25Qp4",
        "colab_type": "text"
      },
      "source": [
        "Question 1\n",
        "Level 1\n",
        "\n",
        "Question:\n",
        "Write a program which will find all such numbers which are divisible by 7 but are not a multiple of 5,\n",
        "between 2000 and 3200 (both included).\n",
        "The numbers obtained should be printed in a comma-separated sequence on a single line.\n",
        "\n",
        "Hints: \n",
        "Consider use range(#begin, #end) method\n",
        "\n"
      ]
    },
    {
      "cell_type": "code",
      "metadata": {
        "id": "dTgCb_KY5Qp6",
        "colab_type": "code",
        "outputId": "032c9907-6adb-4437-c70c-e7525b68d96c",
        "colab": {
          "base_uri": "https://localhost:8080/",
          "height": 55
        }
      },
      "source": [
        "begin = 2000\n",
        "end = 3200\n",
        "\n",
        "for i in range(begin, end + 1):\n",
        "    if ((i % 7 == 0) and (i % 5 != 0)):\n",
        "        print(i, end=\", \")"
      ],
      "execution_count": 0,
      "outputs": [
        {
          "output_type": "stream",
          "text": [
            "2002, 2009, 2016, 2023, 2037, 2044, 2051, 2058, 2072, 2079, 2086, 2093, 2107, 2114, 2121, 2128, 2142, 2149, 2156, 2163, 2177, 2184, 2191, 2198, 2212, 2219, 2226, 2233, 2247, 2254, 2261, 2268, 2282, 2289, 2296, 2303, 2317, 2324, 2331, 2338, 2352, 2359, 2366, 2373, 2387, 2394, 2401, 2408, 2422, 2429, 2436, 2443, 2457, 2464, 2471, 2478, 2492, 2499, 2506, 2513, 2527, 2534, 2541, 2548, 2562, 2569, 2576, 2583, 2597, 2604, 2611, 2618, 2632, 2639, 2646, 2653, 2667, 2674, 2681, 2688, 2702, 2709, 2716, 2723, 2737, 2744, 2751, 2758, 2772, 2779, 2786, 2793, 2807, 2814, 2821, 2828, 2842, 2849, 2856, 2863, 2877, 2884, 2891, 2898, 2912, 2919, 2926, 2933, 2947, 2954, 2961, 2968, 2982, 2989, 2996, 3003, 3017, 3024, 3031, 3038, 3052, 3059, 3066, 3073, 3087, 3094, 3101, 3108, 3122, 3129, 3136, 3143, 3157, 3164, 3171, 3178, 3192, 3199, "
          ],
          "name": "stdout"
        }
      ]
    },
    {
      "cell_type": "markdown",
      "metadata": {
        "id": "7tTcyxuc5Qp9",
        "colab_type": "text"
      },
      "source": [
        "\n",
        "Question 2\n",
        "Level 1\n",
        "\n",
        "Question:\n",
        "Write a program which can compute the factorial of a given numbers.\n",
        "The results should be printed in a comma-separated sequence on a single line.\n",
        "Suppose the following input is supplied to the program:\n",
        "8\n",
        "Then, the output should be:\n",
        "40320\n",
        "\n",
        "Hints:\n",
        "In case of input data being supplied to the question, it should be assumed to be a console input.\n",
        "\n"
      ]
    },
    {
      "cell_type": "code",
      "metadata": {
        "id": "Rt0FWxh45Qp-",
        "colab_type": "code",
        "outputId": "cddfab92-cf6b-4549-b4a1-abb19811e55e",
        "colab": {
          "base_uri": "https://localhost:8080/",
          "height": 35
        }
      },
      "source": [
        "input = 8\n",
        "output = 1\n",
        "\n",
        "for i in range(1, input + 1):\n",
        "    output *= i\n",
        "print(output)"
      ],
      "execution_count": 0,
      "outputs": [
        {
          "output_type": "stream",
          "text": [
            "40320\n"
          ],
          "name": "stdout"
        }
      ]
    },
    {
      "cell_type": "markdown",
      "metadata": {
        "id": "MdERoCtQ5QqA",
        "colab_type": "text"
      },
      "source": [
        "\n",
        "Question 3\n",
        "Level 1\n",
        "\n",
        "Question:\n",
        "With a given integral number n, write a program to generate a dictionary that contains (i, i*i) such that is an integral number between 1 and n (both included). and then the program should print the dictionary.\n",
        "Suppose the following input is supplied to the program:\n",
        "8\n",
        "Then, the output should be:\n",
        "{1: 1, 2: 4, 3: 9, 4: 16, 5: 25, 6: 36, 7: 49, 8: 64}\n",
        "\n",
        "Hints:\n",
        "In case of input data being supplied to the question, it should be assumed to be a console input.\n",
        "Consider use dict()\n",
        "\n"
      ]
    },
    {
      "cell_type": "code",
      "metadata": {
        "id": "4DNR3fKS5QqB",
        "colab_type": "code",
        "outputId": "88f4532a-b2f9-4860-f822-d4d3e9fdc4f9",
        "colab": {
          "base_uri": "https://localhost:8080/",
          "height": 35
        }
      },
      "source": [
        "input = 8\n",
        "output = {}\n",
        "\n",
        "for i in range(1, input + 1):\n",
        "    output[i] = i*i\n",
        "print (output)"
      ],
      "execution_count": 0,
      "outputs": [
        {
          "output_type": "stream",
          "text": [
            "{1: 1, 2: 4, 3: 9, 4: 16, 5: 25, 6: 36, 7: 49, 8: 64}\n"
          ],
          "name": "stdout"
        }
      ]
    },
    {
      "cell_type": "markdown",
      "metadata": {
        "id": "VLsvQN1T5QqE",
        "colab_type": "text"
      },
      "source": [
        "\n",
        "Question 4\n",
        "Level 1\n",
        "\n",
        "Question:\n",
        "Write a program which accepts a sequence of comma-separated numbers from console and generate a list and a tuple which contains every number.\n",
        "Suppose the following input is supplied to the program:\n",
        "34,67,55,33,12,98\n",
        "Then, the output should be:\n",
        "['34', '67', '55', '33', '12', '98']\n",
        "('34', '67', '55', '33', '12', '98')\n",
        "\n",
        "Hints:\n",
        "In case of input data being supplied to the question, it should be assumed to be a console input.\n",
        "tuple() method can convert list to tuple\n",
        "\n"
      ]
    },
    {
      "cell_type": "code",
      "metadata": {
        "id": "n-oK9xGw5QqI",
        "colab_type": "code",
        "outputId": "5ec86ca2-9fe7-4897-f549-d18604096dba",
        "colab": {
          "base_uri": "https://localhost:8080/",
          "height": 52
        }
      },
      "source": [
        "input = \"34,67,55,33,12,98\"\n",
        "as_list = input.split(',')\n",
        "\n",
        "print(as_list)\n",
        "print(tuple(as_list))"
      ],
      "execution_count": 0,
      "outputs": [
        {
          "output_type": "stream",
          "text": [
            "['34', '67', '55', '33', '12', '98']\n",
            "('34', '67', '55', '33', '12', '98')\n"
          ],
          "name": "stdout"
        }
      ]
    },
    {
      "cell_type": "markdown",
      "metadata": {
        "id": "RKLw5dJq5QqK",
        "colab_type": "text"
      },
      "source": [
        "\n",
        "Question 5\n",
        "Level 1\n",
        "\n",
        "Question:\n",
        "Define a class which has at least two methods:\n",
        "getString: to get a string from console input\n",
        "printString: to print the string in upper case.\n",
        "Also please include simple test function to test the class methods.\n",
        "\n",
        "Hints:\n",
        "Use __init__ method to construct some parameters\n",
        "\n"
      ]
    },
    {
      "cell_type": "code",
      "metadata": {
        "id": "Em8wdX_Z5QqK",
        "colab_type": "code",
        "outputId": "402cc4a7-e600-408f-dc4a-7e5351d29700",
        "colab": {
          "base_uri": "https://localhost:8080/",
          "height": 35
        }
      },
      "source": [
        "class Banana:\n",
        "    def __init__ (self, color, string):\n",
        "        self.name = \"banana\"\n",
        "        self.color = color\n",
        "        self.string = string\n",
        "\n",
        "    def get_string(self, string):\n",
        "        self.string = string\n",
        "\n",
        "    def print_string(self):\n",
        "        print(self.string.upper())\n",
        "\n",
        "a_banana = Banana(\"yellow\", \"\")\n",
        "a_banana.get_string(\"i am a string\")\n",
        "a_banana.print_string()"
      ],
      "execution_count": 0,
      "outputs": [
        {
          "output_type": "stream",
          "text": [
            "I AM A STRING\n"
          ],
          "name": "stdout"
        }
      ]
    },
    {
      "cell_type": "markdown",
      "metadata": {
        "id": "VJ0aACg55QqN",
        "colab_type": "text"
      },
      "source": [
        "\n",
        "Question 6\n",
        "Level 2\n",
        "\n",
        "Question:\n",
        "Write a program that calculates and prints the value according to the given formula:\n",
        "Q = Square root of [(2 * C * D)/H]\n",
        "Following are the fixed values of C and H:\n",
        "C is 50. H is 30.\n",
        "D is the variable whose values should be input to your program in a comma-separated sequence.\n",
        "Example\n",
        "Let us assume the following comma separated input sequence is given to the program:\n",
        "100,150,180\n",
        "The output of the program should be:\n",
        "18,22,24\n",
        "\n",
        "Hints:\n",
        "If the output received is in decimal form, it should be rounded off to its nearest value (for example, if the output received is 26.0, it should be printed as 26)\n",
        "In case of input data being supplied to the question, it should be assumed to be a console input. \n",
        "\n"
      ]
    },
    {
      "cell_type": "code",
      "metadata": {
        "id": "vc-4wINz5QqO",
        "colab_type": "code",
        "outputId": "38ea66f9-ee13-49de-eadc-3e4fef4df864",
        "colab": {
          "base_uri": "https://localhost:8080/",
          "height": 35
        }
      },
      "source": [
        "import math\n",
        "\n",
        "c = 50\n",
        "h = 30\n",
        "d = [100, 150, 180]\n",
        "\n",
        "output = list(map(lambda x: int(math.sqrt((2*c*x)/h)), d))\n",
        "\n",
        "print(output)"
      ],
      "execution_count": 0,
      "outputs": [
        {
          "output_type": "stream",
          "text": [
            "[18, 22, 24]\n"
          ],
          "name": "stdout"
        }
      ]
    },
    {
      "cell_type": "markdown",
      "metadata": {
        "id": "Tlik8whA5QqQ",
        "colab_type": "text"
      },
      "source": [
        "\n",
        "Question 7\n",
        "Level 2\n",
        "\n",
        "Question:\n",
        "Write a program which takes 2 digits, X,Y as input and generates a 2-dimensional array. The element value in the i-th row and j-th column of the array should be i*j.\n",
        "Note: i=0,1.., X-1; j=0,1,¡­Y-1.\n",
        "Example\n",
        "Suppose the following inputs are given to the program:\n",
        "3,5\n",
        "Then, the output of the program should be:\n",
        "[[0, 0, 0, 0, 0], [0, 1, 2, 3, 4], [0, 2, 4, 6, 8]] \n",
        "\n",
        "Hints:\n",
        "Note: In case of input data being supplied to the question, it should be assumed to be a console input in a comma-separated form.\n",
        "\n"
      ]
    },
    {
      "cell_type": "code",
      "metadata": {
        "id": "ERIz4N2W5QqR",
        "colab_type": "code",
        "outputId": "dc1af25c-c929-40f8-99d5-421ae65bf4eb",
        "colab": {
          "base_uri": "https://localhost:8080/",
          "height": 35
        }
      },
      "source": [
        "x = 3\n",
        "y = 5\n",
        "output = []\n",
        "\n",
        "for i in range(x):\n",
        "    output.append([i*j for j in range(y)])\n",
        "\n",
        "print(output) "
      ],
      "execution_count": 0,
      "outputs": [
        {
          "output_type": "stream",
          "text": [
            "[[0, 0, 0, 0, 0], [0, 1, 2, 3, 4], [0, 2, 4, 6, 8]]\n"
          ],
          "name": "stdout"
        }
      ]
    },
    {
      "cell_type": "markdown",
      "metadata": {
        "id": "FiP048SA5QqU",
        "colab_type": "text"
      },
      "source": [
        "\n",
        "Question 8\n",
        "Level 2\n",
        "\n",
        "Question:\n",
        "Write a program that accepts a comma separated sequence of words as input and prints the words in a comma-separated sequence after sorting them alphabetically.\n",
        "Suppose the following input is supplied to the program:\n",
        "without,hello,bag,world\n",
        "Then, the output should be:\n",
        "bag,hello,without,world\n",
        "\n",
        "Hints:\n",
        "In case of input data being supplied to the question, it should be assumed to be a console input.\n",
        "\n"
      ]
    },
    {
      "cell_type": "code",
      "metadata": {
        "id": "VcqsjhkO5QqV",
        "colab_type": "code",
        "outputId": "d2866cd7-da6a-421e-e0b2-4864ec863e96",
        "colab": {
          "base_uri": "https://localhost:8080/",
          "height": 35
        }
      },
      "source": [
        "from functools import reduce\n",
        "\n",
        "input = \"without,hello,bag,world\"\n",
        "\n",
        "as_sorted_list = sorted(input.split(','))\n",
        "as_string = reduce(lambda a, b: a+\",\"+b, as_sorted_list)\n",
        "print(as_string)"
      ],
      "execution_count": 0,
      "outputs": [
        {
          "output_type": "stream",
          "text": [
            "bag,hello,without,world\n"
          ],
          "name": "stdout"
        }
      ]
    },
    {
      "cell_type": "markdown",
      "metadata": {
        "id": "18QlEZtB5QqY",
        "colab_type": "text"
      },
      "source": [
        "\n",
        "Question 9\n",
        "Level 2\n",
        "\n",
        "Question:\n",
        "Write a program that accepts sequence of lines as input and prints the lines after making all characters in the sentence capitalized.\n",
        "Suppose the following input is supplied to the program:\n",
        "Hello world\n",
        "Practice makes perfect\n",
        "Then, the output should be:\n",
        "HELLO WORLD\n",
        "PRACTICE MAKES PERFECT\n",
        "\n",
        "Hints:\n",
        "In case of input data being supplied to the question, it should be assumed to be a console input.\n",
        "\n"
      ]
    },
    {
      "cell_type": "code",
      "metadata": {
        "id": "L9j-ihzV5QqY",
        "colab_type": "code",
        "outputId": "a6a41f1f-65bf-4bb3-af55-83545e8b7a2d",
        "colab": {
          "base_uri": "https://localhost:8080/",
          "height": 35
        }
      },
      "source": [
        "input = \"Hello world Practice makes perfect\"\n",
        "output = input.upper()\n",
        "\n",
        "print(output)"
      ],
      "execution_count": 0,
      "outputs": [
        {
          "output_type": "stream",
          "text": [
            "HELLO WORLD PRACTICE MAKES PERFECT\n"
          ],
          "name": "stdout"
        }
      ]
    },
    {
      "cell_type": "markdown",
      "metadata": {
        "id": "8isGmfNv5Qqa",
        "colab_type": "text"
      },
      "source": [
        "\n",
        "Question 10\n",
        "Level 2\n",
        "\n",
        "Question:\n",
        "Write a program that accepts a sequence of whitespace separated words as input and prints the words after removing all duplicate words and sorting them alphanumerically.\n",
        "Suppose the following input is supplied to the program:\n",
        "hello world and practice makes perfect and hello world again\n",
        "Then, the output should be:\n",
        "again and hello makes perfect practice world\n",
        "\n",
        "Hints:\n",
        "In case of input data being supplied to the question, it should be assumed to be a console input.\n",
        "We use set container to remove duplicated data automatically and then use sorted() to sort the data.\n",
        "\n"
      ]
    },
    {
      "cell_type": "code",
      "metadata": {
        "id": "uBP22DxB5Qqb",
        "colab_type": "code",
        "outputId": "5153ab7c-e810-48fb-c3ae-84f8ffd7de6b",
        "colab": {
          "base_uri": "https://localhost:8080/",
          "height": 35
        }
      },
      "source": [
        "input = \"hello world and practice makes perfect and hello world again\"\n",
        "output = sorted(list(set(input.split(\" \"))))\n",
        "\n",
        "print(output)"
      ],
      "execution_count": 0,
      "outputs": [
        {
          "output_type": "stream",
          "text": [
            "['again', 'and', 'hello', 'makes', 'perfect', 'practice', 'world']\n"
          ],
          "name": "stdout"
        }
      ]
    },
    {
      "cell_type": "markdown",
      "metadata": {
        "id": "QOKTZK9v5Qqd",
        "colab_type": "text"
      },
      "source": [
        "\n",
        "Question 11\n",
        "Level 2\n",
        "\n",
        "Question:\n",
        "Write a program which accepts a sequence of comma separated 4 digit binary numbers as its input and then check whether they are divisible by 5 or not. The numbers that are divisible by 5 are to be printed in a comma separated sequence.\n",
        "Example:\n",
        "0100,0011,1010,1001\n",
        "Then the output should be:\n",
        "1010\n",
        "Notes: Assume the data is input by console.\n",
        "\n",
        "Hints:\n",
        "In case of input data being supplied to the question, it should be assumed to be a console input.\n",
        "\n"
      ]
    },
    {
      "cell_type": "code",
      "metadata": {
        "id": "95L5mOqu5Qqe",
        "colab_type": "code",
        "outputId": "5ff07ff8-64cd-4b8c-ab93-d6ceb064bc13",
        "colab": {
          "base_uri": "https://localhost:8080/",
          "height": 35
        }
      },
      "source": [
        "input = \"0100,0011,1010,1001\"\n",
        "\n",
        "output = list(filter(lambda x: int(x, 2) % 5 == 0, input.split(',')))\n",
        "print(output)"
      ],
      "execution_count": 0,
      "outputs": [
        {
          "output_type": "stream",
          "text": [
            "['1010']\n"
          ],
          "name": "stdout"
        }
      ]
    },
    {
      "cell_type": "markdown",
      "metadata": {
        "id": "PAe31wRB5Qqg",
        "colab_type": "text"
      },
      "source": [
        "Question 12\n",
        "Level 2\n",
        "\n",
        "Question:\n",
        "Write a program, which will find all such numbers between 1000 and 3000 (both included) such that each digit of the number is an even number.\n",
        "The numbers obtained should be printed in a comma-separated sequence on a single line.\n",
        "\n",
        "Hints:\n",
        "In case of input data being supplied to the question, it should be assumed to be a console input.\n",
        "\n"
      ]
    },
    {
      "cell_type": "code",
      "metadata": {
        "id": "phCOhuHx5Qqh",
        "colab_type": "code",
        "outputId": "df270100-1634-4043-9727-d7a8605a84ee",
        "colab": {
          "base_uri": "https://localhost:8080/",
          "height": 55
        }
      },
      "source": [
        "start = 1000\n",
        "end = 3000\n",
        "\n",
        "def all_even(number):\n",
        "    return all(list(map(lambda x: int(x) % 2 == 0, str(number))))\n",
        "\n",
        "for i in range(start, end):\n",
        "    if (all_even(i)):\n",
        "        print(i, end=\", \")"
      ],
      "execution_count": 0,
      "outputs": [
        {
          "output_type": "stream",
          "text": [
            "2000, 2002, 2004, 2006, 2008, 2020, 2022, 2024, 2026, 2028, 2040, 2042, 2044, 2046, 2048, 2060, 2062, 2064, 2066, 2068, 2080, 2082, 2084, 2086, 2088, 2200, 2202, 2204, 2206, 2208, 2220, 2222, 2224, 2226, 2228, 2240, 2242, 2244, 2246, 2248, 2260, 2262, 2264, 2266, 2268, 2280, 2282, 2284, 2286, 2288, 2400, 2402, 2404, 2406, 2408, 2420, 2422, 2424, 2426, 2428, 2440, 2442, 2444, 2446, 2448, 2460, 2462, 2464, 2466, 2468, 2480, 2482, 2484, 2486, 2488, 2600, 2602, 2604, 2606, 2608, 2620, 2622, 2624, 2626, 2628, 2640, 2642, 2644, 2646, 2648, 2660, 2662, 2664, 2666, 2668, 2680, 2682, 2684, 2686, 2688, 2800, 2802, 2804, 2806, 2808, 2820, 2822, 2824, 2826, 2828, 2840, 2842, 2844, 2846, 2848, 2860, 2862, 2864, 2866, 2868, 2880, 2882, 2884, 2886, 2888, "
          ],
          "name": "stdout"
        }
      ]
    },
    {
      "cell_type": "markdown",
      "metadata": {
        "id": "Xs-XdYSp5Qqj",
        "colab_type": "text"
      },
      "source": [
        "\n",
        "Question 13\n",
        "Level 2\n",
        "\n",
        "Question:\n",
        "Write a program that accepts a sentence and calculate the number of letters and digits.\n",
        "Suppose the following input is supplied to the program:\n",
        "hello world! 123\n",
        "Then, the output should be:\n",
        "LETTERS 10\n",
        "DIGITS 3\n",
        "\n",
        "Hints:\n",
        "In case of input data being supplied to the question, it should be assumed to be a console input.\n",
        "\n"
      ]
    },
    {
      "cell_type": "code",
      "metadata": {
        "id": "i-ZYgex_5Qqk",
        "colab_type": "code",
        "outputId": "d4f90cc0-6212-463e-91e0-47274b0588a7",
        "colab": {
          "base_uri": "https://localhost:8080/",
          "height": 35
        }
      },
      "source": [
        "input = \"hello world! 123\"\n",
        "\n",
        "letters = 0;\n",
        "digits = 0;\n",
        "\n",
        "for i in input:\n",
        "    letters += (i >= 'A' and i <= 'z')\n",
        "    digits += (i >= '0' and i <= '9')\n",
        "\n",
        "print(f'LETTERS {letters} DIGITS {digits}')"
      ],
      "execution_count": 0,
      "outputs": [
        {
          "output_type": "stream",
          "text": [
            "LETTERS 10 DIGITS 3\n"
          ],
          "name": "stdout"
        }
      ]
    },
    {
      "cell_type": "markdown",
      "metadata": {
        "id": "-OHH53305Qqp",
        "colab_type": "text"
      },
      "source": [
        "\n",
        "Question 14\n",
        "Level 2\n",
        "\n",
        "Question:\n",
        "Write a program that accepts a sentence and calculate the number of upper case letters and lower case letters.\n",
        "Suppose the following input is supplied to the program:\n",
        "Hello world!\n",
        "Then, the output should be:\n",
        "UPPER CASE 1\n",
        "LOWER CASE 9\n",
        "\n",
        "Hints:\n",
        "In case of input data being supplied to the question, it should be assumed to be a console input.\n",
        "\n"
      ]
    },
    {
      "cell_type": "code",
      "metadata": {
        "id": "dKjTBqWt5Qqp",
        "colab_type": "code",
        "outputId": "2ef1ce80-e8a7-4bfd-80a4-bc655be50949",
        "colab": {
          "base_uri": "https://localhost:8080/",
          "height": 35
        }
      },
      "source": [
        "input = \"Hello world!\"\n",
        "upper = 0;\n",
        "lower = 0;\n",
        "\n",
        "for i in input:\n",
        "    upper += i.isupper()\n",
        "    lower += i.islower()\n",
        "\n",
        "print(f'UPPER CASE {upper} LOWER CASE {lower}')"
      ],
      "execution_count": 0,
      "outputs": [
        {
          "output_type": "stream",
          "text": [
            "UPPER CASE 1 LOWER CASE 9\n"
          ],
          "name": "stdout"
        }
      ]
    },
    {
      "cell_type": "markdown",
      "metadata": {
        "id": "SuFmsx4r5Qqs",
        "colab_type": "text"
      },
      "source": [
        "\n",
        "Question 15\n",
        "Level 2\n",
        "\n",
        "Question:\n",
        "Write a program that computes the value of a+aa+aaa+aaaa with a given digit as the value of a.\n",
        "Suppose the following input is supplied to the program:\n",
        "9\n",
        "Then, the output should be:\n",
        "11106\n",
        "\n",
        "Hints:\n",
        "In case of input data being supplied to the question, it should be assumed to be a console input.\n",
        "\n"
      ]
    },
    {
      "cell_type": "code",
      "metadata": {
        "id": "c5QaWmW-5Qqs",
        "colab_type": "code",
        "outputId": "99aed464-613c-4307-9b7d-9640d89d3240",
        "colab": {
          "base_uri": "https://localhost:8080/",
          "height": 35
        }
      },
      "source": [
        "input = 9\n",
        "output = 0\n",
        "\n",
        "for i in range(4):\n",
        "    output += int(str(input) + str(input)*i)\n",
        "\n",
        "print(output)"
      ],
      "execution_count": 0,
      "outputs": [
        {
          "output_type": "stream",
          "text": [
            "11106\n"
          ],
          "name": "stdout"
        }
      ]
    },
    {
      "cell_type": "markdown",
      "metadata": {
        "id": "a2yn0XM35Qqv",
        "colab_type": "text"
      },
      "source": [
        "\n",
        "Question 16\n",
        "Level 2\n",
        "\n",
        "Question:\n",
        "Use a list comprehension to square each odd number in a list. The list is input by a sequence of comma-separated numbers.\n",
        "Suppose the following input is supplied to the program:\n",
        "1,2,3,4,5,6,7,8,9\n",
        "Then, the output should be:\n",
        "1,3,5,7,9\n",
        "\n",
        "Hints:\n",
        "In case of input data being supplied to the question, it should be assumed to be a console input.\n",
        "\n"
      ]
    },
    {
      "cell_type": "code",
      "metadata": {
        "id": "hKLjwwTu5Qqw",
        "colab_type": "code",
        "outputId": "3100e56c-bd02-4ee1-c668-8af2e4ba2407",
        "colab": {
          "base_uri": "https://localhost:8080/",
          "height": 35
        }
      },
      "source": [
        "input = [1,2,3,4,5,6,7,8,9]\n",
        "\n",
        "print([x for x in input if x % 2 != 0])"
      ],
      "execution_count": 0,
      "outputs": [
        {
          "output_type": "stream",
          "text": [
            "[1, 3, 5, 7, 9]\n"
          ],
          "name": "stdout"
        }
      ]
    },
    {
      "cell_type": "markdown",
      "metadata": {
        "id": "lMiUGvRY5Qqy",
        "colab_type": "text"
      },
      "source": [
        "\n",
        "Question 17\n",
        "Level 2\n",
        "\n",
        "Question:\n",
        "Write a program that computes the net amount of a bank account based a transaction log from console input. The transaction log format is shown as following:\n",
        "D 100\n",
        "W 200\n",
        "¡­\n",
        "D means deposit while W means withdrawal.\n",
        "Suppose the following input is supplied to the program:\n",
        "D 300\n",
        "D 300\n",
        "W 200\n",
        "D 100\n",
        "Then, the output should be:\n",
        "500\n",
        "\n",
        "Hints:\n",
        "In case of input data being supplied to the question, it should be assumed to be a console input.\n",
        "\n"
      ]
    },
    {
      "cell_type": "code",
      "metadata": {
        "id": "pmGNipZ65Qqz",
        "colab_type": "code",
        "outputId": "5d9513c6-f994-44d9-9f22-3a8541c2966c",
        "colab": {
          "base_uri": "https://localhost:8080/",
          "height": 35
        }
      },
      "source": [
        "import pandas as pd\n",
        "\n",
        "input = \"D 300 D 300 W 200 D 100\"\n",
        "\n",
        "output = input.replace('D', '+')\n",
        "output = output.replace('W', '-')\n",
        "\n",
        "print(pd.eval(output))\n"
      ],
      "execution_count": 0,
      "outputs": [
        {
          "output_type": "stream",
          "text": [
            "500\n"
          ],
          "name": "stdout"
        }
      ]
    },
    {
      "cell_type": "markdown",
      "metadata": {
        "id": "gtR18iR45Qq0",
        "colab_type": "text"
      },
      "source": [
        "\n",
        "Question 18\n",
        "Level 3\n",
        "\n",
        "Question:\n",
        "A website requires the users to input username and password to register. Write a program to check the validity of password input by users.\n",
        "Following are the criteria for checking the password:\n",
        "1. At least 1 letter between [a-z]\n",
        "2. At least 1 number between [0-9]\n",
        "1. At least 1 letter between [A-Z]\n",
        "3. At least 1 character from [$#@]\n",
        "4. Minimum length of transaction password: 6\n",
        "5. Maximum length of transaction password: 12\n",
        "\n",
        "Your program should accept a sequence of comma separated passwords and will check them according to the above criteria. Passwords that match the criteria are to be printed, each separated by a comma.\n",
        "Example\n",
        "If the following passwords are given as input to the program:\n",
        "ABd1234@1,a F1#,2w3E*,2We3345\n",
        "Then, the output of the program should be:\n",
        "ABd1234@1\n",
        "\n",
        "Hints:\n",
        "In case of input data being supplied to the question, it should be assumed to be a console input.\n",
        "\n"
      ]
    },
    {
      "cell_type": "code",
      "metadata": {
        "id": "ZOlHypb15Qq1",
        "colab_type": "code",
        "outputId": "3854fe3a-f289-4a0b-e932-e42965b914d8",
        "colab": {
          "base_uri": "https://localhost:8080/",
          "height": 35
        }
      },
      "source": [
        "import re\n",
        "\n",
        "input = [\"ABd1234@1\",\"a F1#\",\"2w3E*\",\"2We3345\"]\n",
        "\n",
        "def validPassword(password):\n",
        "    return re.match(r'((?=.*[a-z])(?=.*[A-Z])(?=.*[0-9])(?=.*[$#@])(?=^.{6,12}$))', password)\n",
        "\n",
        "output = list(filter(validPassword, input))\n",
        "\n",
        "print(output)"
      ],
      "execution_count": 0,
      "outputs": [
        {
          "output_type": "stream",
          "text": [
            "['ABd1234@1']\n"
          ],
          "name": "stdout"
        }
      ]
    },
    {
      "cell_type": "markdown",
      "metadata": {
        "id": "v2x0qnZD5Qq4",
        "colab_type": "text"
      },
      "source": [
        "\n",
        "Question 19\n",
        "Level 3\n",
        "\n",
        "Question:\n",
        "You are required to write a program to sort the (name, age, height) tuples by ascending order where name is string, age and height are numbers. The tuples are input by console. The sort criteria is:\n",
        "\n",
        "1. Sort based on name.\n",
        "2. Then sort based on age.\n",
        "3. Then sort by height.\n",
        "\n",
        "The priority is that name > age > height.\n",
        "If the following tuples are given as input to the program:\n",
        "\n",
        "Tom,19,80\n",
        "John,20,90\n",
        "Jony,17,91\n",
        "Jony,17,93\n",
        "Json,21,85\n",
        "\n",
        "Then, the output of the program should be:\n",
        "[('John', '20', '90'), ('Jony', '17', '91'), ('Jony', '17', '93'), ('Json', '21', '85'), ('Tom', '19', '80')]\n",
        "\n",
        "Hints:\n",
        "In case of input data being supplied to the question, it should be assumed to be a console input.\n",
        "We use itemgetter to enable multiple sort keys.\n",
        "\n"
      ]
    },
    {
      "cell_type": "code",
      "metadata": {
        "id": "lRnXm12q5Qq4",
        "colab_type": "code",
        "outputId": "7f5119d2-6082-4ebd-dd0a-0e3f65b81ece",
        "colab": {
          "base_uri": "https://localhost:8080/",
          "height": 35
        }
      },
      "source": [
        "input = [('Tom',19,80), ('John',20,90), ('Jony',17,91), ('Jony',17,93), ('Json',21,85)]\n",
        "\n",
        "output = sorted(input, key=lambda x: x[2])\n",
        "output.sort(key=lambda x: x[1])\n",
        "output.sort(key=lambda x: x[0])\n",
        "\n",
        "print(output)"
      ],
      "execution_count": 0,
      "outputs": [
        {
          "output_type": "stream",
          "text": [
            "[('John', 20, 90), ('Jony', 17, 91), ('Jony', 17, 93), ('Json', 21, 85), ('Tom', 19, 80)]\n"
          ],
          "name": "stdout"
        }
      ]
    },
    {
      "cell_type": "markdown",
      "metadata": {
        "id": "Xxfp0spR5Qq6",
        "colab_type": "text"
      },
      "source": [
        "\n",
        "Question 20\n",
        "Level 3\n",
        "\n",
        "Question:\n",
        "Define a class with a generator which can iterate the numbers, which are divisible by 7, between a given range 0 and n.\n",
        "\n",
        "Hints:\n",
        "Consider use yield\n",
        "\n"
      ]
    },
    {
      "cell_type": "code",
      "metadata": {
        "id": "SLFe5pHs5Qq7",
        "colab_type": "code",
        "outputId": "8d7b329a-be7b-4572-ac52-969a7690d87c",
        "colab": {
          "base_uri": "https://localhost:8080/",
          "height": 52
        }
      },
      "source": [
        "class Generator:\n",
        "    def __init__(self, n):\n",
        "        self.n = n\n",
        "\n",
        "    def __iter__(self):\n",
        "        for i in range(self.n):\n",
        "            if (i % 7 == 0):\n",
        "                yield i\n",
        "\n",
        "output = Generator(10)\n",
        "\n",
        "for i in output:\n",
        "    print(i)"
      ],
      "execution_count": 0,
      "outputs": [
        {
          "output_type": "stream",
          "text": [
            "0\n",
            "7\n"
          ],
          "name": "stdout"
        }
      ]
    },
    {
      "cell_type": "markdown",
      "metadata": {
        "id": "8JYkeUaQ5Qq9",
        "colab_type": "text"
      },
      "source": [
        "\n",
        "Question 21\n",
        "Level 3\n",
        "\n",
        "Question:\n",
        "A robot moves in a plane starting from the original point (0,0). The robot can move toward UP, DOWN, LEFT and RIGHT with a given steps. The trace of robot movement is shown as the following:\n",
        "UP 5\n",
        "DOWN 3\n",
        "LEFT 3\n",
        "RIGHT 2\n",
        "¡­\n",
        "The numbers after the direction are steps. Please write a program to compute the distance from current position after a sequence of movement and original point. If the distance is a float, then just print the nearest integer.\n",
        "Example:\n",
        "If the following tuples are given as input to the program:\n",
        "UP 5\n",
        "DOWN 3\n",
        "LEFT 3\n",
        "RIGHT 2\n",
        "Then, the output of the program should be:\n",
        "2\n",
        "\n",
        "Hints:\n",
        "In case of input data being supplied to the question, it should be assumed to be a console input.\n",
        "\n"
      ]
    },
    {
      "cell_type": "code",
      "metadata": {
        "id": "2OURceu55Qq-",
        "colab_type": "code",
        "outputId": "bfb00991-70a9-461c-e18f-0cf47f4ce2d6",
        "colab": {
          "base_uri": "https://localhost:8080/",
          "height": 35
        }
      },
      "source": [
        "import math\n",
        "\n",
        "input = [('UP', 5), ('DOWN', 3), ('LEFT', 3), ('RIGHT', 2)]\n",
        "\n",
        "movement = {'UP': 0, 'DOWN': 0, 'LEFT': 0, 'RIGHT': 0}\n",
        "starting_point = (0, 0)\n",
        "\n",
        "for i in input:\n",
        "    movement[i[0]] += i[1]\n",
        "\n",
        "end_point = (movement['RIGHT'] - movement['LEFT'], movement['UP'] - movement['DOWN'])\n",
        "distance = math.sqrt((starting_point[0] - end_point[0])**2 + (starting_point[1] - end_point[1])**2)\n",
        "\n",
        "print(int(distance))"
      ],
      "execution_count": 0,
      "outputs": [
        {
          "output_type": "stream",
          "text": [
            "2\n"
          ],
          "name": "stdout"
        }
      ]
    },
    {
      "cell_type": "markdown",
      "metadata": {
        "id": "l1ThbhlZ5QrA",
        "colab_type": "text"
      },
      "source": [
        "Question 22\n",
        "Level 3\n",
        "\n",
        "Question:\n",
        "Write a program to compute the frequency of the words from the input. The output should output after sorting the key alphanumerically. \n",
        "Suppose the following input is supplied to the program:\n",
        "New to Python or choosing between Python 2 and Python 3? Read Python 2 or Python 3.\n",
        "Then, the output should be:\n",
        "2:2\n",
        "3.:1\n",
        "3?:1\n",
        "New:1\n",
        "Python:5\n",
        "Read:1\n",
        "and:1\n",
        "between:1\n",
        "choosing:1\n",
        "or:2\n",
        "to:1\n",
        "\n",
        "Hints\n",
        "In case of input data being supplied to the question, it should be assumed to be a console input.\n",
        "\n"
      ]
    },
    {
      "cell_type": "code",
      "metadata": {
        "id": "_1SCEuC05QrB",
        "colab_type": "code",
        "outputId": "1879ea27-5c34-4629-8a42-88b2a6dac2b4",
        "colab": {
          "base_uri": "https://localhost:8080/",
          "height": 35
        }
      },
      "source": [
        "input = \"New to Python or choosing between Python 2 and Python 3? Read Python 2 or Python 3.\"\n",
        "output = {}\n",
        "\n",
        "for i in sorted(input.split()):\n",
        "    if (i in output):\n",
        "        output[i] += 1\n",
        "    else:\n",
        "        output[i] = 1\n",
        "\n",
        "print(output)"
      ],
      "execution_count": 0,
      "outputs": [
        {
          "output_type": "stream",
          "text": [
            "{'2': 2, '3.': 1, '3?': 1, 'New': 1, 'Python': 5, 'Read': 1, 'and': 1, 'between': 1, 'choosing': 1, 'or': 2, 'to': 1}\n"
          ],
          "name": "stdout"
        }
      ]
    },
    {
      "cell_type": "markdown",
      "metadata": {
        "id": "XcCAjcI95QrI",
        "colab_type": "text"
      },
      "source": [
        "\n",
        "Question 23\n",
        "level 1\n",
        "\n",
        "Question:\n",
        "    Write a method which can calculate square value of number\n",
        "\n",
        "Hints:\n",
        "    Using the ** operator\n",
        "\n"
      ]
    },
    {
      "cell_type": "code",
      "metadata": {
        "id": "mzGLPCAw5QrI",
        "colab_type": "code",
        "colab": {
          "base_uri": "https://localhost:8080/",
          "height": 35
        },
        "outputId": "7fce27ee-41e4-47de-db96-d92c1b3756fb"
      },
      "source": [
        "input = 5\n",
        "\n",
        "print(input**2)"
      ],
      "execution_count": 19,
      "outputs": [
        {
          "output_type": "stream",
          "text": [
            "25\n"
          ],
          "name": "stdout"
        }
      ]
    },
    {
      "cell_type": "markdown",
      "metadata": {
        "id": "QHUhtmYE5QrK",
        "colab_type": "text"
      },
      "source": [
        "\n",
        "Question 24\n",
        "Level 1\n",
        "\n",
        "Question:\n",
        "    Python has many built-in functions, and if you do not know how to use it, you can read document online or find some books. But Python has a built-in document function for every built-in functions.\n",
        "    Please write a program to print some Python built-in functions documents, such as abs(), int(), raw_input()\n",
        "    And add document for your own function\n",
        "    \n",
        "\n",
        "Hints:\n",
        "    The built-in document method is __doc__\n",
        "\n"
      ]
    },
    {
      "cell_type": "code",
      "metadata": {
        "id": "PoYgCwMr5QrL",
        "colab_type": "code",
        "colab": {
          "base_uri": "https://localhost:8080/",
          "height": 545
        },
        "outputId": "5af8d5d3-367b-4dc1-f31d-90e53f5d195f"
      },
      "source": [
        "def my_documented_function(): \n",
        "    \"\"\"this is a documentation\"\"\"\n",
        "\n",
        "    return \"banana\"\n",
        "  \n",
        "print(my_documented_function.__doc__)\n",
        "print(abs.__doc__)\n",
        "print(input.__doc__) #raw_input is for the old people\n",
        "print(int.__doc__)"
      ],
      "execution_count": 20,
      "outputs": [
        {
          "output_type": "stream",
          "text": [
            "this is a documentation\n",
            "Return the absolute value of the argument.\n",
            "int(x=0) -> integer\n",
            "int(x, base=10) -> integer\n",
            "\n",
            "Convert a number or string to an integer, or return 0 if no arguments\n",
            "are given.  If x is a number, return x.__int__().  For floating point\n",
            "numbers, this truncates towards zero.\n",
            "\n",
            "If x is not a number or if base is given, then x must be a string,\n",
            "bytes, or bytearray instance representing an integer literal in the\n",
            "given base.  The literal can be preceded by '+' or '-' and be surrounded\n",
            "by whitespace.  The base defaults to 10.  Valid bases are 0 and 2-36.\n",
            "Base 0 means to interpret the base from the string as an integer literal.\n",
            ">>> int('0b100', base=0)\n",
            "4\n",
            "int(x=0) -> integer\n",
            "int(x, base=10) -> integer\n",
            "\n",
            "Convert a number or string to an integer, or return 0 if no arguments\n",
            "are given.  If x is a number, return x.__int__().  For floating point\n",
            "numbers, this truncates towards zero.\n",
            "\n",
            "If x is not a number or if base is given, then x must be a string,\n",
            "bytes, or bytearray instance representing an integer literal in the\n",
            "given base.  The literal can be preceded by '+' or '-' and be surrounded\n",
            "by whitespace.  The base defaults to 10.  Valid bases are 0 and 2-36.\n",
            "Base 0 means to interpret the base from the string as an integer literal.\n",
            ">>> int('0b100', base=0)\n",
            "4\n"
          ],
          "name": "stdout"
        }
      ]
    },
    {
      "cell_type": "markdown",
      "metadata": {
        "id": "nXwcacrK5QrN",
        "colab_type": "text"
      },
      "source": [
        "\n",
        "Question 25\n",
        "Level 1\n",
        "\n",
        "Question:\n",
        "    Define a class, which have a class parameter and have a same instance parameter.\n",
        "\n",
        "Hints:\n",
        "    Define a instance parameter, need add it in __init__ method\n",
        "    You can init a object with construct parameter or set the value later\n",
        "\n"
      ]
    },
    {
      "cell_type": "code",
      "metadata": {
        "id": "sTLP1h0l5QrN",
        "colab_type": "code",
        "colab": {
          "base_uri": "https://localhost:8080/",
          "height": 35
        },
        "outputId": "23fea8e1-a899-49ac-b1f3-7a13a02c38a4"
      },
      "source": [
        "class BananaClass:\n",
        "    color = \"yellow\"\n",
        "\n",
        "    def __init__(self, color):\n",
        "        self.color = color\n",
        "\n",
        "\n",
        "my_banana = BananaClass(\"almost yellow\")\n",
        "\n",
        "print(my_banana.color)"
      ],
      "execution_count": 22,
      "outputs": [
        {
          "output_type": "stream",
          "text": [
            "almost yellow\n"
          ],
          "name": "stdout"
        }
      ]
    },
    {
      "cell_type": "markdown",
      "metadata": {
        "id": "Tz3ABjmv5QrP",
        "colab_type": "text"
      },
      "source": [
        "\n",
        "Question:\n",
        "Define a function which can compute the sum of two numbers.\n",
        "\n",
        "Hints:\n",
        "Define a function with two numbers as arguments. You can compute the sum in the function and return the value.\n",
        "\n"
      ]
    },
    {
      "cell_type": "code",
      "metadata": {
        "id": "uTgH15Sb5QrP",
        "colab_type": "code",
        "colab": {
          "base_uri": "https://localhost:8080/",
          "height": 35
        },
        "outputId": "fe3de20b-1b67-4cbb-e1ea-9292c43ef438"
      },
      "source": [
        "def yayyyyyy(a, b):\n",
        "    return a+b\n",
        "\n",
        "print(yayyyyyy(34543, 5554656345345))"
      ],
      "execution_count": 25,
      "outputs": [
        {
          "output_type": "stream",
          "text": [
            "5554656379888\n"
          ],
          "name": "stdout"
        }
      ]
    },
    {
      "cell_type": "markdown",
      "metadata": {
        "id": "BMIVLBS-5QrR",
        "colab_type": "text"
      },
      "source": [
        "\n",
        "Question:\n",
        "Define a function that can convert a integer into a string and print it in console.\n",
        "\n",
        "Hints:\n",
        "Use str() to convert a number to string.\n",
        "\n"
      ]
    },
    {
      "cell_type": "code",
      "metadata": {
        "id": "cqKdElma5QrS",
        "colab_type": "code",
        "colab": {
          "base_uri": "https://localhost:8080/",
          "height": 35
        },
        "outputId": "889e6c75-b605-4158-b10a-d430ebec31e4"
      },
      "source": [
        "def super_yayyyyyy(int):\n",
        "    print(str(int))\n",
        "\n",
        "super_yayyyyyy(34543)"
      ],
      "execution_count": 26,
      "outputs": [
        {
          "output_type": "stream",
          "text": [
            "34543\n"
          ],
          "name": "stdout"
        }
      ]
    },
    {
      "cell_type": "markdown",
      "metadata": {
        "id": "0qyI9g4-5QrU",
        "colab_type": "text"
      },
      "source": [
        "\n",
        "Question:\n",
        "Define a function that can convert a integer into a string and print it in console.\n",
        "\n",
        "Hints:\n",
        "Use str() to convert a number to string.\n",
        "\n"
      ]
    },
    {
      "cell_type": "code",
      "metadata": {
        "id": "j5dA42b05QrV",
        "colab_type": "code",
        "colab": {
          "base_uri": "https://localhost:8080/",
          "height": 35
        },
        "outputId": "4e619c78-696e-4fda-da5e-db4067d84a9f"
      },
      "source": [
        "# wow, this one looks *a lot* more complex the the prev question \n",
        "\n",
        "def super_yayyyyyy(int):\n",
        "    print(str(int))\n",
        "\n",
        "super_yayyyyyy(0)"
      ],
      "execution_count": 27,
      "outputs": [
        {
          "output_type": "stream",
          "text": [
            "0\n"
          ],
          "name": "stdout"
        }
      ]
    },
    {
      "cell_type": "markdown",
      "metadata": {
        "id": "dPRMzwHX5QrW",
        "colab_type": "text"
      },
      "source": [
        "\n",
        "\n",
        "Question:\n",
        "Define a function that can receive two integral numbers in string form and compute their sum and then print it in console.\n",
        "\n",
        "Hints:\n",
        "Use int() to convert a string to integer.\n",
        "\n"
      ]
    },
    {
      "cell_type": "code",
      "metadata": {
        "id": "xMXf8U0D5QrX",
        "colab_type": "code",
        "colab": {}
      },
      "source": [
        "def a_func(str_1, str_2):\n",
        "    print(int(str_1) + int(str_2))\n",
        "\n",
        "a_func(\"12\", \"56464\")"
      ],
      "execution_count": 0,
      "outputs": []
    },
    {
      "cell_type": "markdown",
      "metadata": {
        "id": "JJ2lnuch5QrZ",
        "colab_type": "text"
      },
      "source": [
        "\n",
        "Question:\n",
        "Define a function that can accept two strings as input and concatenate them and then print it in console.\n",
        "\n",
        "Hints:\n",
        "Use + to concatenate the strings\n",
        "\n"
      ]
    },
    {
      "cell_type": "code",
      "metadata": {
        "id": "rP7f_YRQ5Qra",
        "colab_type": "code",
        "colab": {
          "base_uri": "https://localhost:8080/",
          "height": 35
        },
        "outputId": "6314151d-a4db-4624-9e2f-41e37ba623a0"
      },
      "source": [
        "def a_func(str_1, str_2):\n",
        "    print(str_1 + str_2)\n",
        "\n",
        "a_func(\"i am a \", \"banana\")"
      ],
      "execution_count": 30,
      "outputs": [
        {
          "output_type": "stream",
          "text": [
            "i am a banana\n"
          ],
          "name": "stdout"
        }
      ]
    },
    {
      "cell_type": "markdown",
      "metadata": {
        "id": "UceVDJc15Qrc",
        "colab_type": "text"
      },
      "source": [
        "\n",
        "Question:\n",
        "Define a function that can accept two strings as input and print the string with maximum length in console. If two strings have the same length, then the function should print all strings line by line.\n",
        "\n",
        "Hints:\n",
        "Use len() function to get the length of a string\n",
        "\n"
      ]
    },
    {
      "cell_type": "code",
      "metadata": {
        "id": "wA7TGwVT5Qrd",
        "colab_type": "code",
        "colab": {
          "base_uri": "https://localhost:8080/",
          "height": 35
        },
        "outputId": "cb018886-9f39-4621-e367-c020a17eaf46"
      },
      "source": [
        "def a_func(str_1, str_2):\n",
        "    if (len(str_1) > len(str_2)): print(str_1)\n",
        "    elif (len(str_2) > len(str_1)): print(str_2)\n",
        "    else: print(str_1 + str_2)\n",
        "\n",
        "a_func(\"12\", \"56464\")"
      ],
      "execution_count": 34,
      "outputs": [
        {
          "output_type": "stream",
          "text": [
            "56464\n"
          ],
          "name": "stdout"
        }
      ]
    },
    {
      "cell_type": "markdown",
      "metadata": {
        "id": "vp9rXAMC5Qrg",
        "colab_type": "text"
      },
      "source": [
        "\n",
        "Question:\n",
        "Define a function that can accept an integer number as input and print the 'It is an even number' if the number is even, otherwise print 'It is an odd number'.\n",
        "\n",
        "Hints:\n",
        "Use % operator to check if a number is even or odd.\n",
        "\n"
      ]
    },
    {
      "cell_type": "code",
      "metadata": {
        "id": "-uny-Nkk5Qrj",
        "colab_type": "code",
        "colab": {
          "base_uri": "https://localhost:8080/",
          "height": 35
        },
        "outputId": "faa12860-7fb5-47c8-a1f1-c79cf615aeeb"
      },
      "source": [
        "def is_even(number):\n",
        "    if (number % 2 == 0): print(\"is even\")\n",
        "    else: print(\"well, it is not even\")\n",
        "\n",
        "is_even(54)"
      ],
      "execution_count": 35,
      "outputs": [
        {
          "output_type": "stream",
          "text": [
            "is even\n"
          ],
          "name": "stdout"
        }
      ]
    },
    {
      "cell_type": "markdown",
      "metadata": {
        "id": "9002Jmt75Qrm",
        "colab_type": "text"
      },
      "source": [
        "\n",
        "Question:\n",
        "Define a function which can print a dictionary where the keys are numbers between 1 and 3 (both included) and the values are square of keys.\n",
        "\n",
        "Hints:\n",
        "Use dict[key]=value pattern to put entry into a dictionary.\n",
        "Use ** operator to get power of a number.\n",
        "\n"
      ]
    },
    {
      "cell_type": "code",
      "metadata": {
        "id": "QIV24hvZ5Qrn",
        "colab_type": "code",
        "colab": {
          "base_uri": "https://localhost:8080/",
          "height": 35
        },
        "outputId": "ff27dbb8-1b5c-4a52-c42f-e4797b54bb72"
      },
      "source": [
        "def a_func():\n",
        "    print({1: 1, 2: 4, 3: 9}) # sometims the stupid way is the best...\n",
        "\n",
        "a_func()"
      ],
      "execution_count": 36,
      "outputs": [
        {
          "output_type": "stream",
          "text": [
            "{1: 1, 2: 4, 3: 9}\n"
          ],
          "name": "stdout"
        }
      ]
    },
    {
      "cell_type": "markdown",
      "metadata": {
        "id": "zi0puz4g5Qrq",
        "colab_type": "text"
      },
      "source": [
        "\n",
        "Question:\n",
        "Define a function which can print a dictionary where the keys are numbers between 1 and 20 (both included) and the values are square of keys.\n",
        "\n",
        "Hints:\n",
        "Use dict[key]=value pattern to put entry into a dictionary.\n",
        "Use ** operator to get power of a number.\n",
        "Use range() for loops.\n",
        "\n"
      ]
    },
    {
      "cell_type": "code",
      "metadata": {
        "id": "S6QFbkoE5Qrq",
        "colab_type": "code",
        "colab": {
          "base_uri": "https://localhost:8080/",
          "height": 35
        },
        "outputId": "a27eecb1-1109-4c23-eeb9-2409238474b8"
      },
      "source": [
        "def a_func():\n",
        "    print({i: i**2 for i in range(1, 21) }) # not this time 😉\n",
        "\n",
        "a_func()"
      ],
      "execution_count": 37,
      "outputs": [
        {
          "output_type": "stream",
          "text": [
            "{1: 1, 2: 4, 3: 9, 4: 16, 5: 25, 6: 36, 7: 49, 8: 64, 9: 81, 10: 100, 11: 121, 12: 144, 13: 169, 14: 196, 15: 225, 16: 256, 17: 289, 18: 324, 19: 361, 20: 400}\n"
          ],
          "name": "stdout"
        }
      ]
    },
    {
      "cell_type": "markdown",
      "metadata": {
        "id": "3X7SCtRX5Qrs",
        "colab_type": "text"
      },
      "source": [
        "\n",
        "Question:\n",
        "Define a function which can generate a dictionary where the keys are numbers between 1 and 20 (both included) and the values are square of keys. The function should just print the values only.\n",
        "\n",
        "Hints:\n",
        "Use dict[key]=value pattern to put entry into a dictionary.\n",
        "Use ** operator to get power of a number.\n",
        "Use range() for loops.\n",
        "Use keys() to iterate keys in the dictionary. Also we can use item() to get key/value pairs.\n",
        "\n"
      ]
    },
    {
      "cell_type": "code",
      "metadata": {
        "id": "IPIupzqx5Qrs",
        "colab_type": "code",
        "colab": {
          "base_uri": "https://localhost:8080/",
          "height": 35
        },
        "outputId": "1a92e07b-cc44-4862-c703-c3846209014f"
      },
      "source": [
        "def a_func():\n",
        "    the_dict = {i: i**2 for i in range(1, 21) }\n",
        "    print(the_dict.values())\n",
        "\n",
        "a_func()"
      ],
      "execution_count": 39,
      "outputs": [
        {
          "output_type": "stream",
          "text": [
            "dict_values([1, 4, 9, 16, 25, 36, 49, 64, 81, 100, 121, 144, 169, 196, 225, 256, 289, 324, 361, 400])\n"
          ],
          "name": "stdout"
        }
      ]
    },
    {
      "cell_type": "markdown",
      "metadata": {
        "id": "HJTx3EX35Qru",
        "colab_type": "text"
      },
      "source": [
        "\n",
        "Question:\n",
        "Define a function which can generate a dictionary where the keys are numbers between 1 and 20 (both included) and the values are square of keys. The function should just print the keys only.\n",
        "\n",
        "Hints:\n",
        "Use dict[key]=value pattern to put entry into a dictionary.\n",
        "Use ** operator to get power of a number.\n",
        "Use range() for loops.\n",
        "Use keys() to iterate keys in the dictionary. Also we can use item() to get key/value pairs.\n",
        "\n"
      ]
    },
    {
      "cell_type": "code",
      "metadata": {
        "id": "g6KGl-M95Qru",
        "colab_type": "code",
        "colab": {}
      },
      "source": [
        "def a_func():\n",
        "    the_dict = {i: i**2 for i in range(1, 21) }\n",
        "    print(the_dict.keys()) # not impressed\n",
        "\n",
        "a_func()"
      ],
      "execution_count": 0,
      "outputs": []
    },
    {
      "cell_type": "markdown",
      "metadata": {
        "id": "fASjJsHu5Qrw",
        "colab_type": "text"
      },
      "source": [
        "\n",
        "Question:\n",
        "Define a function which can generate and print a list where the values are square of numbers between 1 and 20 (both included).\n",
        "\n",
        "Hints:\n",
        "Use ** operator to get power of a number.\n",
        "Use range() for loops.\n",
        "Use list.append() to add values into a list.\n",
        "\n"
      ]
    },
    {
      "cell_type": "code",
      "metadata": {
        "id": "UVc3VN0w5Qrw",
        "colab_type": "code",
        "colab": {}
      },
      "source": [
        ""
      ],
      "execution_count": 0,
      "outputs": []
    },
    {
      "cell_type": "markdown",
      "metadata": {
        "id": "sBCQ2_Ix5Qr1",
        "colab_type": "text"
      },
      "source": [
        "\n",
        "Question:\n",
        "Define a function which can generate a list where the values are square of numbers between 1 and 20 (both included). Then the function needs to print the first 5 elements in the list.\n",
        "\n",
        "Hints:\n",
        "Use ** operator to get power of a number.\n",
        "Use range() for loops.\n",
        "Use list.append() to add values into a list.\n",
        "Use [n1:n2] to slice a list\n",
        "\n"
      ]
    },
    {
      "cell_type": "code",
      "metadata": {
        "id": "yFTcPt3s5Qr1",
        "colab_type": "code",
        "colab": {}
      },
      "source": [
        ""
      ],
      "execution_count": 0,
      "outputs": []
    },
    {
      "cell_type": "markdown",
      "metadata": {
        "id": "KAiskdlF5Qr3",
        "colab_type": "text"
      },
      "source": [
        "\n",
        "Question:\n",
        "Define a function which can generate a list where the values are square of numbers between 1 and 20 (both included). Then the function needs to print the last 5 elements in the list.\n",
        "\n",
        "Hints:\n",
        "Use ** operator to get power of a number.\n",
        "Use range() for loops.\n",
        "Use list.append() to add values into a list.\n",
        "Use [n1:n2] to slice a list\n",
        "\n"
      ]
    },
    {
      "cell_type": "code",
      "metadata": {
        "id": "26J2GBF45Qr4",
        "colab_type": "code",
        "colab": {}
      },
      "source": [
        ""
      ],
      "execution_count": 0,
      "outputs": []
    },
    {
      "cell_type": "markdown",
      "metadata": {
        "id": "J6vlcd0V5Qr5",
        "colab_type": "text"
      },
      "source": [
        "\n",
        "Question:\n",
        "Define a function which can generate a list where the values are square of numbers between 1 and 20 (both included). Then the function needs to print all values except the first 5 elements in the list.\n",
        "\n",
        "Hints:\n",
        "Use ** operator to get power of a number.\n",
        "Use range() for loops.\n",
        "Use list.append() to add values into a list.\n",
        "Use [n1:n2] to slice a list\n",
        "\n"
      ]
    },
    {
      "cell_type": "code",
      "metadata": {
        "id": "mZU62k4n5Qr6",
        "colab_type": "code",
        "colab": {}
      },
      "source": [
        ""
      ],
      "execution_count": 0,
      "outputs": []
    },
    {
      "cell_type": "markdown",
      "metadata": {
        "id": "sbAzUHdy5Qr8",
        "colab_type": "text"
      },
      "source": [
        "\n",
        "Question:\n",
        "Define a function which can generate and print a tuple where the value are square of numbers between 1 and 20 (both included). \n",
        "\n",
        "Hints:\n",
        "Use ** operator to get power of a number.\n",
        "Use range() for loops.\n",
        "Use list.append() to add values into a list.\n",
        "Use tuple() to get a tuple from a list.\n",
        "\n"
      ]
    },
    {
      "cell_type": "code",
      "metadata": {
        "id": "pZ8XqzYW5Qr9",
        "colab_type": "code",
        "colab": {}
      },
      "source": [
        ""
      ],
      "execution_count": 0,
      "outputs": []
    },
    {
      "cell_type": "markdown",
      "metadata": {
        "id": "c9tCDA1d5QsC",
        "colab_type": "text"
      },
      "source": [
        "\n",
        "Question:\n",
        "With a given tuple (1,2,3,4,5,6,7,8,9,10), write a program to print the first half values in one line and the last half values in one line. \n",
        "\n",
        "Hints:\n",
        "Use [n1:n2] notation to get a slice from a tuple.\n",
        "\n"
      ]
    },
    {
      "cell_type": "code",
      "metadata": {
        "id": "X16m30qH5QsD",
        "colab_type": "code",
        "colab": {}
      },
      "source": [
        ""
      ],
      "execution_count": 0,
      "outputs": []
    },
    {
      "cell_type": "markdown",
      "metadata": {
        "id": "xRLAXu2C5QsF",
        "colab_type": "text"
      },
      "source": [
        "\n",
        "Question:\n",
        "Write a program to generate and print another tuple whose values are even numbers in the given tuple (1,2,3,4,5,6,7,8,9,10). \n",
        "\n",
        "Hints:\n",
        "Use 'for' to iterate the tuple\n",
        "Use tuple() to generate a tuple from a list.\n",
        "\n"
      ]
    },
    {
      "cell_type": "code",
      "metadata": {
        "id": "3xlKDKCT5QsG",
        "colab_type": "code",
        "colab": {}
      },
      "source": [
        ""
      ],
      "execution_count": 0,
      "outputs": []
    },
    {
      "cell_type": "markdown",
      "metadata": {
        "id": "qzD7sid25QsH",
        "colab_type": "text"
      },
      "source": [
        "\n",
        "Question:\n",
        "Write a program which accepts a string as input to print 'Yes' if the string is 'yes' or 'YES' or 'Yes', otherwise print 'No'. \n",
        "\n",
        "Hints:\n",
        "Use if statement to judge condition.\n",
        "\n"
      ]
    },
    {
      "cell_type": "code",
      "metadata": {
        "id": "A8yc8au_5QsI",
        "colab_type": "code",
        "colab": {}
      },
      "source": [
        ""
      ],
      "execution_count": 0,
      "outputs": []
    },
    {
      "cell_type": "markdown",
      "metadata": {
        "id": "OTUG9lqv5QsJ",
        "colab_type": "text"
      },
      "source": [
        "\n",
        "Question:\n",
        "Write a program which can filter even numbers in a list by using filter function. The list is: [1,2,3,4,5,6,7,8,9,10].\n",
        "\n",
        "Hints:\n",
        "Use filter() to filter some elements in a list.\n",
        "Use lambda to define anonymous functions.\n",
        "\n"
      ]
    },
    {
      "cell_type": "code",
      "metadata": {
        "id": "sFa17Zrk5QsK",
        "colab_type": "code",
        "colab": {}
      },
      "source": [
        ""
      ],
      "execution_count": 0,
      "outputs": []
    },
    {
      "cell_type": "markdown",
      "metadata": {
        "id": "ecjPAUVM5QsM",
        "colab_type": "text"
      },
      "source": [
        "\n",
        "Question:\n",
        "Write a program which can map() to make a list whose elements are square of elements in [1,2,3,4,5,6,7,8,9,10].\n",
        "\n",
        "Hints:\n",
        "Use map() to generate a list.\n",
        "Use lambda to define anonymous functions.\n",
        "\n"
      ]
    },
    {
      "cell_type": "code",
      "metadata": {
        "id": "L4FR1rxO5QsO",
        "colab_type": "code",
        "colab": {}
      },
      "source": [
        ""
      ],
      "execution_count": 0,
      "outputs": []
    },
    {
      "cell_type": "markdown",
      "metadata": {
        "id": "OPXMtzHD5QsS",
        "colab_type": "text"
      },
      "source": [
        "\n",
        "Question:\n",
        "Write a program which can map() and filter() to make a list whose elements are square of even number in [1,2,3,4,5,6,7,8,9,10].\n",
        "\n",
        "Hints:\n",
        "Use map() to generate a list.\n",
        "Use filter() to filter elements of a list.\n",
        "Use lambda to define anonymous functions.\n",
        "\n"
      ]
    },
    {
      "cell_type": "code",
      "metadata": {
        "id": "JTX94LTg5QsT",
        "colab_type": "code",
        "colab": {}
      },
      "source": [
        ""
      ],
      "execution_count": 0,
      "outputs": []
    },
    {
      "cell_type": "markdown",
      "metadata": {
        "id": "zKsGsnx05QsU",
        "colab_type": "text"
      },
      "source": [
        "\n",
        "Question:\n",
        "Write a program which can filter() to make a list whose elements are even number between 1 and 20 (both included).\n",
        "\n",
        "Hints:\n",
        "Use filter() to filter elements of a list.\n",
        "Use lambda to define anonymous functions.\n",
        "\n"
      ]
    },
    {
      "cell_type": "code",
      "metadata": {
        "id": "c-pox46q5QsV",
        "colab_type": "code",
        "colab": {}
      },
      "source": [
        ""
      ],
      "execution_count": 0,
      "outputs": []
    },
    {
      "cell_type": "markdown",
      "metadata": {
        "id": "YIhFF_mj5QsY",
        "colab_type": "text"
      },
      "source": [
        "\n",
        "Question:\n",
        "Write a program which can map() to make a list whose elements are square of numbers between 1 and 20 (both included).\n",
        "\n",
        "Hints:\n",
        "Use map() to generate a list.\n",
        "Use lambda to define anonymous functions.\n",
        "\n"
      ]
    },
    {
      "cell_type": "code",
      "metadata": {
        "id": "fe3hy0yd5QsY",
        "colab_type": "code",
        "colab": {}
      },
      "source": [
        ""
      ],
      "execution_count": 0,
      "outputs": []
    },
    {
      "cell_type": "markdown",
      "metadata": {
        "id": "z3N0ZkKp5Qsa",
        "colab_type": "text"
      },
      "source": [
        "\n",
        "Question:\n",
        "Define a class named American which has a static method called printNationality.\n",
        "\n",
        "Hints:\n",
        "Use @staticmethod decorator to define class static method.\n",
        "\n"
      ]
    },
    {
      "cell_type": "code",
      "metadata": {
        "id": "v4d1IxzI5Qsb",
        "colab_type": "code",
        "colab": {}
      },
      "source": [
        ""
      ],
      "execution_count": 0,
      "outputs": []
    },
    {
      "cell_type": "markdown",
      "metadata": {
        "id": "2JbyxmHt5Qsd",
        "colab_type": "text"
      },
      "source": [
        "\n",
        "Question:\n",
        "Define a class named American and its subclass NewYorker. \n",
        "\n",
        "Hints:\n",
        "Use class Subclass(ParentClass) to define a subclass.\n",
        "\n"
      ]
    },
    {
      "cell_type": "code",
      "metadata": {
        "id": "ov985uhr5Qsf",
        "colab_type": "code",
        "colab": {}
      },
      "source": [
        ""
      ],
      "execution_count": 0,
      "outputs": []
    },
    {
      "cell_type": "markdown",
      "metadata": {
        "id": "neLIDnAU5Qsh",
        "colab_type": "text"
      },
      "source": [
        "\n",
        "Question:\n",
        "Define a class named Circle which can be constructed by a radius. The Circle class has a method which can compute the area. \n",
        "\n",
        "Hints:\n",
        "Use def methodName(self) to define a method.\n",
        "\n"
      ]
    },
    {
      "cell_type": "code",
      "metadata": {
        "id": "uBs9ho9V5Qsi",
        "colab_type": "code",
        "colab": {}
      },
      "source": [
        ""
      ],
      "execution_count": 0,
      "outputs": []
    },
    {
      "cell_type": "markdown",
      "metadata": {
        "id": "mn2dToe_5Qsj",
        "colab_type": "text"
      },
      "source": [
        "\n",
        "Define a class named Rectangle which can be constructed by a length and width. The Rectangle class has a method which can compute the area. \n",
        "\n",
        "Hints:\n",
        "Use def methodName(self) to define a method.\n",
        "\n"
      ]
    },
    {
      "cell_type": "code",
      "metadata": {
        "id": "gzWRddhy5Qsk",
        "colab_type": "code",
        "colab": {}
      },
      "source": [
        ""
      ],
      "execution_count": 0,
      "outputs": []
    },
    {
      "cell_type": "markdown",
      "metadata": {
        "id": "5IYmQRHd5Qsl",
        "colab_type": "text"
      },
      "source": [
        "\n",
        "Define a class named Shape and its subclass Square. The Square class has an init function which takes a length as argument. Both classes have a area function which can print the area of the shape where Shape's area is 0 by default.\n",
        "\n",
        "Hints:\n",
        "To override a method in super class, we can define a method with the same name in the super class.\n",
        "\n"
      ]
    },
    {
      "cell_type": "code",
      "metadata": {
        "id": "EtboSjUL5Qsm",
        "colab_type": "code",
        "colab": {}
      },
      "source": [
        ""
      ],
      "execution_count": 0,
      "outputs": []
    },
    {
      "cell_type": "markdown",
      "metadata": {
        "id": "OIyYjStf5Qso",
        "colab_type": "text"
      },
      "source": [
        "\n",
        "\n",
        "Please raise a RuntimeError exception.\n",
        "\n",
        "Hints:\n",
        "Use raise() to raise an exception.\n",
        "\n"
      ]
    },
    {
      "cell_type": "code",
      "metadata": {
        "id": "5SEbMRo55Qsp",
        "colab_type": "code",
        "colab": {}
      },
      "source": [
        ""
      ],
      "execution_count": 0,
      "outputs": []
    },
    {
      "cell_type": "markdown",
      "metadata": {
        "id": "n5WHHnmU5Qsq",
        "colab_type": "text"
      },
      "source": [
        "\n",
        "Write a function to compute 5/0 and use try/except to catch the exceptions.\n",
        "\n",
        "Hints:\n",
        "Use try/except to catch exceptions.\n",
        "\n"
      ]
    },
    {
      "cell_type": "code",
      "metadata": {
        "id": "qjFvbKuv5Qsq",
        "colab_type": "code",
        "colab": {}
      },
      "source": [
        ""
      ],
      "execution_count": 0,
      "outputs": []
    },
    {
      "cell_type": "markdown",
      "metadata": {
        "id": "vSV-SDgp5Qst",
        "colab_type": "text"
      },
      "source": [
        "\n",
        "Define a custom exception class which takes a string message as attribute.\n",
        "\n",
        "Hints:\n",
        "To define a custom exception, we need to define a class inherited from Exception.\n",
        "\n"
      ]
    },
    {
      "cell_type": "code",
      "metadata": {
        "id": "U3iKyUp-5Qst",
        "colab_type": "code",
        "colab": {}
      },
      "source": [
        ""
      ],
      "execution_count": 0,
      "outputs": []
    },
    {
      "cell_type": "markdown",
      "metadata": {
        "id": "na7f1sUn5Qsv",
        "colab_type": "text"
      },
      "source": [
        "\n",
        "Question:\n",
        "Assuming that we have some email addresses in the 'username@companyname.com' format, please write program to print the user name of a given email address. Both user names and company names are composed of letters only.\n",
        "Example:\n",
        "If the following email address is given as input to the program:\n",
        "john@google.com\n",
        "Then, the output of the program should be:\n",
        "john\n",
        "In case of input data being supplied to the question, it should be assumed to be a console input.\n",
        "\n",
        "Hints:\n",
        "Use  to match letters.\n",
        "\n"
      ]
    },
    {
      "cell_type": "code",
      "metadata": {
        "id": "048XY_nJ5Qsv",
        "colab_type": "code",
        "colab": {}
      },
      "source": [
        ""
      ],
      "execution_count": 0,
      "outputs": []
    },
    {
      "cell_type": "markdown",
      "metadata": {
        "id": "CqKmO-Sn5Qsw",
        "colab_type": "text"
      },
      "source": [
        "\n",
        "Question:\n",
        "Assuming that we have some email addresses in the 'username@companyname.com' format, please write program to print the company name of a given email address. Both user names and company names are composed of letters only.\n",
        "Example:\n",
        "If the following email address is given as input to the program:\n",
        "john@google.com\n",
        "Then, the output of the program should be:\n",
        "google\n",
        "In case of input data being supplied to the question, it should be assumed to be a console input.\n",
        "\n",
        "Hints:\n",
        "Use  to match letters.\n",
        "\n"
      ]
    },
    {
      "cell_type": "code",
      "metadata": {
        "id": "wzI3f--65Qsx",
        "colab_type": "code",
        "colab": {}
      },
      "source": [
        ""
      ],
      "execution_count": 0,
      "outputs": []
    },
    {
      "cell_type": "markdown",
      "metadata": {
        "id": "NiJwMpRS5Qs1",
        "colab_type": "text"
      },
      "source": [
        "\n",
        "Question:\n",
        "Write a program which accepts a sequence of words separated by whitespace as input to print the words composed of digits only.\n",
        "Example:\n",
        "If the following words is given as input to the program:\n",
        "2 cats and 3 dogs.\n",
        "Then, the output of the program should be:\n",
        "['2', '3']\n",
        "In case of input data being supplied to the question, it should be assumed to be a console input.\n",
        "\n",
        "Hints:\n",
        "Use re.findall() to find all substring using regex.\n",
        "\n"
      ]
    },
    {
      "cell_type": "code",
      "metadata": {
        "id": "xkYOzRcg5Qs1",
        "colab_type": "code",
        "colab": {}
      },
      "source": [
        ""
      ],
      "execution_count": 0,
      "outputs": []
    },
    {
      "cell_type": "markdown",
      "metadata": {
        "id": "HBfK_vsT5Qs5",
        "colab_type": "text"
      },
      "source": [
        "\n",
        "Question:\n",
        "\n",
        "Print a unicode string 'hello world'.\n",
        "\n",
        "Hints:\n",
        "Use u'strings' format to define unicode string.\n",
        "\n"
      ]
    },
    {
      "cell_type": "code",
      "metadata": {
        "id": "-1RGPibc5Qs5",
        "colab_type": "code",
        "colab": {}
      },
      "source": [
        ""
      ],
      "execution_count": 0,
      "outputs": []
    },
    {
      "cell_type": "markdown",
      "metadata": {
        "id": "AP_YmbFq5Qs6",
        "colab_type": "text"
      },
      "source": [
        "\n",
        "Write a program to read an ASCII string and to convert it to a unicode string encoded by utf-8.\n",
        "\n",
        "Hints:\n",
        "Use unicode() function to convert.\n",
        "\n"
      ]
    },
    {
      "cell_type": "code",
      "metadata": {
        "id": "m6xP8vcU5Qs7",
        "colab_type": "code",
        "colab": {}
      },
      "source": [
        ""
      ],
      "execution_count": 0,
      "outputs": []
    },
    {
      "cell_type": "markdown",
      "metadata": {
        "id": "vj_xwBSl5Qs_",
        "colab_type": "text"
      },
      "source": [
        "\n",
        "Question:\n",
        "Write a special comment to indicate a Python source code file is in unicode.\n",
        "\n",
        "Hints:\n",
        "\n"
      ]
    },
    {
      "cell_type": "code",
      "metadata": {
        "id": "qrs5cP645Qs_",
        "colab_type": "code",
        "colab": {}
      },
      "source": [
        ""
      ],
      "execution_count": 0,
      "outputs": []
    },
    {
      "cell_type": "markdown",
      "metadata": {
        "id": "uuTKOkzs5QtA",
        "colab_type": "text"
      },
      "source": [
        "\n",
        "Question:\n",
        "Write a program to compute 1/2+2/3+3/4+...+n/n+1 with a given n input by console (n>0).\n",
        "Example:\n",
        "If the following n is given as input to the program:\n",
        "5\n",
        "Then, the output of the program should be:\n",
        "3.55\n",
        "In case of input data being supplied to the question, it should be assumed to be a console input.\n",
        "\n",
        "Hints:\n",
        "Use float() to convert an integer to a float\n",
        "\n"
      ]
    },
    {
      "cell_type": "code",
      "metadata": {
        "id": "p6mcixr75QtB",
        "colab_type": "code",
        "colab": {}
      },
      "source": [
        ""
      ],
      "execution_count": 0,
      "outputs": []
    },
    {
      "cell_type": "markdown",
      "metadata": {
        "id": "KvMdUyKT5QtD",
        "colab_type": "text"
      },
      "source": [
        "\n",
        "Question:\n",
        "Write a program to compute:\n",
        "f(n)=f(n-1)+100 when n>0\n",
        "and f(0)=1\n",
        "with a given n input by console (n>0).\n",
        "Example:\n",
        "If the following n is given as input to the program:\n",
        "5\n",
        "Then, the output of the program should be:\n",
        "500\n",
        "In case of input data being supplied to the question, it should be assumed to be a console input.\n",
        "\n",
        "Hints:\n",
        "We can define recursive function in Python.\n",
        "\n"
      ]
    },
    {
      "cell_type": "code",
      "metadata": {
        "id": "Kb2dsI925QtD",
        "colab_type": "code",
        "colab": {}
      },
      "source": [
        ""
      ],
      "execution_count": 0,
      "outputs": []
    },
    {
      "cell_type": "markdown",
      "metadata": {
        "id": "KUHXWPcr5QtF",
        "colab_type": "text"
      },
      "source": [
        "\n",
        "Question:\n",
        "\n",
        "The Fibonacci Sequence is computed based on the following formula:\n",
        "\n",
        "f(n)=0 if n=0\n",
        "f(n)=1 if n=1\n",
        "f(n)=f(n-1)+f(n-2) if n>1\n",
        "Please write a program to compute the value of f(n) with a given n input by console.\n",
        "Example:\n",
        "If the following n is given as input to the program:\n",
        "7\n",
        "Then, the output of the program should be:\n",
        "13\n",
        "In case of input data being supplied to the question, it should be assumed to be a console input.\n",
        "\n",
        "Hints:\n",
        "We can define recursive function in Python.\n",
        "\n",
        "\n"
      ]
    },
    {
      "cell_type": "code",
      "metadata": {
        "id": "ZGFRN2Qj5QtF",
        "colab_type": "code",
        "colab": {}
      },
      "source": [
        ""
      ],
      "execution_count": 0,
      "outputs": []
    },
    {
      "cell_type": "markdown",
      "metadata": {
        "id": "hYXIueOB5QtH",
        "colab_type": "text"
      },
      "source": [
        "\n",
        "Question:\n",
        "The Fibonacci Sequence is computed based on the following formula:\n",
        "\n",
        "f(n)=0 if n=0\n",
        "f(n)=1 if n=1\n",
        "f(n)=f(n-1)+f(n-2) if n>1\n",
        "Please write a program using list comprehension to print the Fibonacci Sequence in comma separated form with a given n input by console.\n",
        "Example:\n",
        "If the following n is given as input to the program:\n",
        "7\n",
        "Then, the output of the program should be:\n",
        "0,1,1,2,3,5,8,13\n",
        "\n",
        "\n",
        "Hints:\n",
        "We can define recursive function in Python.\n",
        "Use list comprehension to generate a list from an existing list.\n",
        "Use string.join() to join a list of strings.\n",
        "In case of input data being supplied to the question, it should be assumed to be a console input.\n",
        "\n"
      ]
    },
    {
      "cell_type": "code",
      "metadata": {
        "id": "jqObWdfi5QtH",
        "colab_type": "code",
        "colab": {}
      },
      "source": [
        ""
      ],
      "execution_count": 0,
      "outputs": []
    },
    {
      "cell_type": "markdown",
      "metadata": {
        "id": "gc7Fh8f15QtJ",
        "colab_type": "text"
      },
      "source": [
        "\n",
        "Question:\n",
        "Please write a program using generator to print the even numbers between 0 and n in comma separated form while n is input by console.\n",
        "Example:\n",
        "If the following n is given as input to the program:\n",
        "10\n",
        "Then, the output of the program should be:\n",
        "0,2,4,6,8,10\n",
        "\n",
        "Hints:\n",
        "Use yield to produce the next value in generator.\n",
        "In case of input data being supplied to the question, it should be assumed to be a console input.\n",
        "\n"
      ]
    },
    {
      "cell_type": "code",
      "metadata": {
        "id": "ahoKfNi05QtJ",
        "colab_type": "code",
        "colab": {}
      },
      "source": [
        ""
      ],
      "execution_count": 0,
      "outputs": []
    },
    {
      "cell_type": "markdown",
      "metadata": {
        "id": "7ybSFTCm5QtL",
        "colab_type": "text"
      },
      "source": [
        "\n",
        "Question:\n",
        "Please write a program using generator to print the numbers which can be divisible by 5 and 7 between 0 and n in comma separated form while n is input by console.\n",
        "Example:\n",
        "If the following n is given as input to the program:\n",
        "100\n",
        "Then, the output of the program should be:\n",
        "0,35,70\n",
        "\n",
        "Hints:\n",
        "Use yield to produce the next value in generator.\n",
        "In case of input data being supplied to the question, it should be assumed to be a console input.\n",
        "\n"
      ]
    },
    {
      "cell_type": "code",
      "metadata": {
        "id": "_IdV4SzS5QtO",
        "colab_type": "code",
        "colab": {}
      },
      "source": [
        ""
      ],
      "execution_count": 0,
      "outputs": []
    },
    {
      "cell_type": "markdown",
      "metadata": {
        "id": "YaQHdDEU5QtQ",
        "colab_type": "text"
      },
      "source": [
        "\n",
        "Question:\n",
        "\n",
        "Please write assert statements to verify that every number in the list [2,4,6,8] is even.\n",
        "\n",
        "\n",
        "Hints:\n",
        "Use 'assert expression' to make assertion.\n",
        "\n",
        "\n"
      ]
    },
    {
      "cell_type": "code",
      "metadata": {
        "id": "YtqHLElD5QtR",
        "colab_type": "code",
        "colab": {}
      },
      "source": [
        ""
      ],
      "execution_count": 0,
      "outputs": []
    },
    {
      "cell_type": "markdown",
      "metadata": {
        "id": "h2DIWsGG5QtW",
        "colab_type": "text"
      },
      "source": [
        "\n",
        "Question:\n",
        "Please write a program which accepts basic mathematic expression from console and print the evaluation result.\n",
        "Example:\n",
        "If the following string is given as input to the program:\n",
        "35+3\n",
        "Then, the output of the program should be:\n",
        "38\n",
        "\n",
        "Hints:\n",
        "Use eval() to evaluate an expression.\n",
        "\n",
        "\n"
      ]
    },
    {
      "cell_type": "code",
      "metadata": {
        "id": "i_tXTnaY5QtX",
        "colab_type": "code",
        "colab": {}
      },
      "source": [
        ""
      ],
      "execution_count": 0,
      "outputs": []
    },
    {
      "cell_type": "markdown",
      "metadata": {
        "id": "7K7I54yK5Qtb",
        "colab_type": "text"
      },
      "source": [
        "\n",
        "Question:\n",
        "Please write a binary search function which searches an item in a sorted list. The function should return the index of element to be searched in the list.\n",
        "\n",
        "\n",
        "Hints:\n",
        "Use if/elif to deal with conditions.\n",
        "\n",
        "\n"
      ]
    },
    {
      "cell_type": "code",
      "metadata": {
        "id": "Y3ZpfmQb5Qtc",
        "colab_type": "code",
        "colab": {}
      },
      "source": [
        ""
      ],
      "execution_count": 0,
      "outputs": []
    },
    {
      "cell_type": "markdown",
      "metadata": {
        "id": "thVxSWJr5Qtd",
        "colab_type": "text"
      },
      "source": [
        "\n",
        "Question:\n",
        "Please write a binary search function which searches an item in a sorted list. The function should return the index of element to be searched in the list.\n",
        "\n",
        "\n",
        "Hints:\n",
        "Use if/elif to deal with conditions.\n",
        "\n",
        "\n"
      ]
    },
    {
      "cell_type": "code",
      "metadata": {
        "id": "V61nFQZx5Qtf",
        "colab_type": "code",
        "colab": {}
      },
      "source": [
        ""
      ],
      "execution_count": 0,
      "outputs": []
    },
    {
      "cell_type": "markdown",
      "metadata": {
        "id": "5qTZL1Yu5Qtg",
        "colab_type": "text"
      },
      "source": [
        "\n",
        "Question:\n",
        "Please generate a random float where the value is between 10 and 100 using Python math module.\n",
        "\n",
        "\n",
        "Hints:\n",
        "Use random.random() to generate a random float in [0,1].\n",
        "\n",
        "\n"
      ]
    },
    {
      "cell_type": "code",
      "metadata": {
        "id": "H6YmMiqL5Qth",
        "colab_type": "code",
        "colab": {}
      },
      "source": [
        ""
      ],
      "execution_count": 0,
      "outputs": []
    },
    {
      "cell_type": "markdown",
      "metadata": {
        "id": "1rx7XDf15Qti",
        "colab_type": "text"
      },
      "source": [
        "\n",
        "Question:\n",
        "Please generate a random float where the value is between 5 and 95 using Python math module.\n",
        "\n",
        "\n",
        "Hints:\n",
        "Use random.random() to generate a random float in [0,1].\n",
        "\n",
        "\n"
      ]
    },
    {
      "cell_type": "code",
      "metadata": {
        "id": "elYcuVf95Qti",
        "colab_type": "code",
        "colab": {}
      },
      "source": [
        ""
      ],
      "execution_count": 0,
      "outputs": []
    },
    {
      "cell_type": "markdown",
      "metadata": {
        "id": "lD5c7egR5Qtk",
        "colab_type": "text"
      },
      "source": [
        "\n",
        "Question:\n",
        "Please write a program to output a random even number between 0 and 10 inclusive using random module and list comprehension.\n",
        "\n",
        "\n",
        "Hints:\n",
        "Use random.choice() to a random element from a list.\n",
        "\n",
        "\n"
      ]
    },
    {
      "cell_type": "code",
      "metadata": {
        "id": "AP77UaZe5Qtk",
        "colab_type": "code",
        "colab": {}
      },
      "source": [
        ""
      ],
      "execution_count": 0,
      "outputs": []
    },
    {
      "cell_type": "markdown",
      "metadata": {
        "id": "sBCm3AMp5Qtn",
        "colab_type": "text"
      },
      "source": [
        "\n",
        "Question:\n",
        "Please write a program to output a random number, which is divisible by 5 and 7, between 0 and 10 inclusive using random module and list comprehension.\n",
        "\n",
        "\n",
        "Hints:\n",
        "Use random.choice() to a random element from a list.\n",
        "\n",
        "\n"
      ]
    },
    {
      "cell_type": "code",
      "metadata": {
        "id": "bVxtZMbH5Qtn",
        "colab_type": "code",
        "colab": {}
      },
      "source": [
        "import random\n",
        "\n",
        "random.choice()"
      ],
      "execution_count": 0,
      "outputs": []
    },
    {
      "cell_type": "markdown",
      "metadata": {
        "id": "PLJUlZ5n5Qto",
        "colab_type": "text"
      },
      "source": [
        "\n",
        "Question:\n",
        "Please write a program to generate a list with 5 random numbers between 100 and 200 inclusive.\n",
        "\n",
        "\n",
        "Hints:\n",
        "Use random.sample() to generate a list of random values.\n",
        "\n",
        "\n"
      ]
    },
    {
      "cell_type": "code",
      "metadata": {
        "id": "NAjhgUYN5Qtp",
        "colab_type": "code",
        "colab": {
          "base_uri": "https://localhost:8080/",
          "height": 35
        },
        "outputId": "4f4e4ee1-032a-4851-9ece-0e461790821f"
      },
      "source": [
        "import random\n",
        "\n",
        "list_of_randoms = random.sample(range(1, 200), 5)\n",
        "\n",
        "print(list_of_randoms)"
      ],
      "execution_count": 18,
      "outputs": [
        {
          "output_type": "stream",
          "text": [
            "[57, 32, 151, 194, 150]\n"
          ],
          "name": "stdout"
        }
      ]
    },
    {
      "cell_type": "markdown",
      "metadata": {
        "id": "O94xNBlB5Qtr",
        "colab_type": "text"
      },
      "source": [
        "\n",
        "Question:\n",
        "Please write a program to randomly generate a list with 5 even numbers between 100 and 200 inclusive.\n",
        "\n",
        "\n",
        "Hints:\n",
        "Use random.sample() to generate a list of random values.\n",
        "\n",
        "\n"
      ]
    },
    {
      "cell_type": "code",
      "metadata": {
        "id": "iw1NTUm25Qtr",
        "colab_type": "code",
        "colab": {
          "base_uri": "https://localhost:8080/",
          "height": 35
        },
        "outputId": "c7a9796d-b681-4ea8-8d96-cd50725e79a2"
      },
      "source": [
        "import random\n",
        "\n",
        "list_of_randoms = random.sample(range(1, 100), 5)\n",
        "\n",
        "print(list(map(lambda x: x*2, list_of_randoms)))"
      ],
      "execution_count": 17,
      "outputs": [
        {
          "output_type": "stream",
          "text": [
            "[40, 120, 92, 70, 130]\n"
          ],
          "name": "stdout"
        }
      ]
    },
    {
      "cell_type": "markdown",
      "metadata": {
        "id": "XMe6Cdud5Qts",
        "colab_type": "text"
      },
      "source": [
        "\n",
        "Question:\n",
        "Please write a program to randomly generate a list with 5 numbers, which are divisible by 5 and 7 , between 1 and 1000 inclusive.\n",
        "\n",
        "\n",
        "Hints:\n",
        "Use random.sample() to generate a list of random values.\n",
        "\n",
        "\n"
      ]
    },
    {
      "cell_type": "code",
      "metadata": {
        "id": "74V8Bm9L5Qtt",
        "colab_type": "code",
        "outputId": "5e66bc76-3144-4ac1-bd3f-e8e269b99126",
        "colab": {
          "base_uri": "https://localhost:8080/",
          "height": 105
        }
      },
      "source": [
        "import random\n",
        "\n",
        "list_of_randoms = [0]\n",
        "\n",
        "while (len(list(x for x in list_of_randoms if (x % 5 == 0 and x % 7 == 0))) > 0):\n",
        "    list_of_randoms = random.sample(range(1, 1000), 5)\n",
        "\n",
        "print(list_of_randoms)"
      ],
      "execution_count": 16,
      "outputs": [
        {
          "output_type": "stream",
          "text": [
            "False\n",
            "[103, 961, 490, 108, 88]\n",
            "[653, 210, 726, 561, 297]\n",
            "[865, 696, 660, 574, 869]\n",
            "[865, 696, 660, 574, 869]\n"
          ],
          "name": "stdout"
        }
      ]
    },
    {
      "cell_type": "markdown",
      "metadata": {
        "id": "ifwqSXHY5Qtu",
        "colab_type": "text"
      },
      "source": [
        "\n",
        "Question:\n",
        "Please write a program to randomly print a integer number between 7 and 15 inclusive.\n",
        "\n",
        "\n",
        "Hints:\n",
        "Use random.randrange() to a random integer in a given range.\n",
        "\n",
        "\n"
      ]
    },
    {
      "cell_type": "code",
      "metadata": {
        "id": "fuXQT9FY5Qtv",
        "colab_type": "code",
        "outputId": "bed1e180-6586-43e4-d33c-3c52b0f59bc8",
        "colab": {
          "base_uri": "https://localhost:8080/",
          "height": 35
        }
      },
      "source": [
        "import random\n",
        "\n",
        "print(random.randrange(7, 15))"
      ],
      "execution_count": 0,
      "outputs": [
        {
          "output_type": "stream",
          "text": [
            "10\n"
          ],
          "name": "stdout"
        }
      ]
    },
    {
      "cell_type": "markdown",
      "metadata": {
        "id": "k-CJMAzG5Qtx",
        "colab_type": "text"
      },
      "source": [
        "\n",
        "Question:\n",
        "Please write a program to compress and decompress the string 'hello world!hello world!hello world!hello world!'.\n",
        "\n",
        "\n",
        "Hints:\n",
        "Use zlib.compress() and zlib.decompress() to compress and decompress a string.\n",
        "\n",
        "\n"
      ]
    },
    {
      "cell_type": "code",
      "metadata": {
        "id": "D4oKxyYQ5Qty",
        "colab_type": "code",
        "outputId": "c7525feb-5709-485b-d3a6-43bed217cbd1",
        "colab": {
          "base_uri": "https://localhost:8080/",
          "height": 52
        }
      },
      "source": [
        "import zlib\n",
        "\n",
        "input = \"hello world!hello world!hello world!hello world!\"\n",
        "\n",
        "the_compressed_text = zlib.compress(input.encode('utf-8'))\n",
        "the_uncompressed_text = zlib.decompress(the_compressed_text)\n",
        "\n",
        "print(f'this is the compressed input: {the_compressed_text}')\n",
        "print(f'and this is the uncompressed compressed input: {the_uncompressed_text}')"
      ],
      "execution_count": 2,
      "outputs": [
        {
          "output_type": "stream",
          "text": [
            "this is the compressed input: b'x\\x9c\\xcbH\\xcd\\xc9\\xc9W(\\xcf/\\xcaIQ\\xcc \\x82\\r\\x00\\xbd[\\x11\\xf5'\n",
            "and this is the uncompressed compressed input: b'hello world!hello world!hello world!hello world!'\n"
          ],
          "name": "stdout"
        }
      ]
    },
    {
      "cell_type": "markdown",
      "metadata": {
        "id": "A4uxvqYn5Qt0",
        "colab_type": "text"
      },
      "source": [
        "\n",
        "Question:\n",
        "Please write a program to print the running time of execution of '1+1' for 100 times.\n",
        "\n",
        "\n",
        "Hints:\n",
        "Use timeit() function to measure the running time.\n",
        "\n"
      ]
    },
    {
      "cell_type": "code",
      "metadata": {
        "id": "aOeXzWor5Qt0",
        "colab_type": "code",
        "outputId": "0dde8faf-9774-43ab-893d-8261fb5c5660",
        "colab": {
          "base_uri": "https://localhost:8080/",
          "height": 35
        }
      },
      "source": [
        "import timeit\n",
        "\n",
        "the_time = timeit.timeit('1+1', number=100)\n",
        "print(the_time)"
      ],
      "execution_count": 0,
      "outputs": [
        {
          "output_type": "stream",
          "text": [
            "1.5549994714092463e-06\n"
          ],
          "name": "stdout"
        }
      ]
    },
    {
      "cell_type": "markdown",
      "metadata": {
        "id": "TrifBVRi5Qt2",
        "colab_type": "text"
      },
      "source": [
        "\n",
        "Question:\n",
        "Please write a program to shuffle and print the list [3,6,7,8].\n",
        "\n",
        "\n",
        "Hints:\n",
        "Use shuffle() function to shuffle a list.\n",
        "\n"
      ]
    },
    {
      "cell_type": "code",
      "metadata": {
        "id": "k2NMzrvE5Qt2",
        "colab_type": "code",
        "outputId": "9d7d261d-43b1-4b3e-9e89-f6fa6a3e038e",
        "colab": {
          "base_uri": "https://localhost:8080/",
          "height": 35
        }
      },
      "source": [
        "import random\n",
        "\n",
        "a_list = [3,6,7,8]\n",
        "random.shuffle(a_list)\n",
        "print(a_list)"
      ],
      "execution_count": 0,
      "outputs": [
        {
          "output_type": "stream",
          "text": [
            "[6, 7, 8, 3]\n"
          ],
          "name": "stdout"
        }
      ]
    },
    {
      "cell_type": "markdown",
      "metadata": {
        "id": "NvXFEb3p5Qt4",
        "colab_type": "text"
      },
      "source": [
        "\n",
        "Question:\n",
        "Please write a program to shuffle and print the list [3,6,7,8].\n",
        "\n",
        "\n",
        "Hints:\n",
        "Use shuffle() function to shuffle a list.\n",
        "\n",
        "\n"
      ]
    },
    {
      "cell_type": "code",
      "metadata": {
        "id": "792b6Vzt5Qt4",
        "colab_type": "code",
        "outputId": "c4d533ea-e144-446f-8892-3a0669a64cd3",
        "colab": {
          "base_uri": "https://localhost:8080/",
          "height": 35
        }
      },
      "source": [
        "# so what did i do in the prev question? 🤔\n",
        "\n",
        "import random\n",
        "\n",
        "a_list = [3,6,7,8]\n",
        "random.shuffle(a_list)\n",
        "print(a_list)"
      ],
      "execution_count": 0,
      "outputs": [
        {
          "output_type": "stream",
          "text": [
            "[6, 7, 8, 3]\n"
          ],
          "name": "stdout"
        }
      ]
    },
    {
      "cell_type": "markdown",
      "metadata": {
        "id": "JugSPWm25Qt6",
        "colab_type": "text"
      },
      "source": [
        "\n",
        "Question:\n",
        "Please write a program to generate all sentences where subject is in ['I', 'You'] and verb is in ['Play', 'Love'] and the object is in ['Hockey','Football'].\n",
        "\n",
        "Hints:\n",
        "Use list[index] notation to get a element from a list.\n",
        "\n"
      ]
    },
    {
      "cell_type": "code",
      "metadata": {
        "id": "_r8zdHut5Qt7",
        "colab_type": "code",
        "outputId": "0e17b972-1935-4a8d-a015-b65afc42f8aa",
        "colab": {
          "base_uri": "https://localhost:8080/",
          "height": 35
        }
      },
      "source": [
        "import itertools\n",
        "subject = ['I', 'You']\n",
        "verb = ['Play', 'Love']\n",
        "object = ['Hockey','Football']\n",
        "\n",
        "sentences_words = [subject, verb, object]\n",
        "sentences = list(itertools.product(*sentences_words))\n",
        "sentences = list(map(lambda x: \" \".join(x), sentences))\n",
        "print(sentences)"
      ],
      "execution_count": 1,
      "outputs": [
        {
          "output_type": "stream",
          "text": [
            "['I Play Hockey', 'I Play Football', 'I Love Hockey', 'I Love Football', 'You Play Hockey', 'You Play Football', 'You Love Hockey', 'You Love Football']\n"
          ],
          "name": "stdout"
        }
      ]
    },
    {
      "cell_type": "markdown",
      "metadata": {
        "id": "GizzgjNn5Qt-",
        "colab_type": "text"
      },
      "source": [
        "\n",
        "Please write a program to print the list after removing delete even numbers in [5,6,77,45,22,12,24].\n",
        "\n",
        "Hints:\n",
        "Use list comprehension to delete a bunch of element from a list.\n",
        "\n"
      ]
    },
    {
      "cell_type": "code",
      "metadata": {
        "id": "IJCj0tEB5Qt-",
        "colab_type": "code",
        "outputId": "fe7abe2e-167c-4a5d-b4c6-b5fae891c6bb",
        "colab": {
          "base_uri": "https://localhost:8080/",
          "height": 35
        }
      },
      "source": [
        "input = [5,6,77,45,22,12,24]\n",
        "\n",
        "print([i for i in input if i % 2 != 0])"
      ],
      "execution_count": 0,
      "outputs": [
        {
          "output_type": "stream",
          "text": [
            "[5, 77, 45]\n"
          ],
          "name": "stdout"
        }
      ]
    },
    {
      "cell_type": "markdown",
      "metadata": {
        "id": "JFCLio8R5QuB",
        "colab_type": "text"
      },
      "source": [
        "\n",
        "Question:\n",
        "By using list comprehension, please write a program to print the list after removing delete numbers which are divisible by 5 and 7 in [12,24,35,70,88,120,155].\n",
        "\n",
        "Hints:\n",
        "Use list comprehension to delete a bunch of element from a list.\n",
        "\n"
      ]
    },
    {
      "cell_type": "code",
      "metadata": {
        "id": "hrt4isIn5QuB",
        "colab_type": "code",
        "outputId": "7b3cdd4b-11b4-4f49-f6ca-e49ec9b4b83e",
        "colab": {
          "base_uri": "https://localhost:8080/",
          "height": 35
        }
      },
      "source": [
        "input = [12,24,35,70,88,120,155]\n",
        "\n",
        "print([i for i in input if not (i % 5 == 0 and i % 7 == 0)])"
      ],
      "execution_count": 0,
      "outputs": [
        {
          "output_type": "stream",
          "text": [
            "[12, 24, 88, 120, 155]\n"
          ],
          "name": "stdout"
        }
      ]
    },
    {
      "cell_type": "markdown",
      "metadata": {
        "id": "2WdHA47x5QuD",
        "colab_type": "text"
      },
      "source": [
        "\n",
        "Question:\n",
        "By using list comprehension, please write a program to print the list after removing the 0th, 2nd, 4th,6th numbers in [12,24,35,70,88,120,155].\n",
        "\n",
        "Hints:\n",
        "Use list comprehension to delete a bunch of element from a list.\n",
        "Use enumerate() to get (index, value) tuple.\n",
        "\n"
      ]
    },
    {
      "cell_type": "code",
      "metadata": {
        "id": "CaXl-5qN5QuD",
        "colab_type": "code",
        "outputId": "1ae2454d-0b11-4269-a969-245d0e24e783",
        "colab": {
          "base_uri": "https://localhost:8080/",
          "height": 35
        }
      },
      "source": [
        "input = [12,24,35,70,88,120,155]\n",
        "idx_to_remove = [0, 2, 4, 6]\n",
        "\n",
        "print([input[i] for i in range(len(input)) if i not in idx_to_remove])"
      ],
      "execution_count": 0,
      "outputs": [
        {
          "output_type": "stream",
          "text": [
            "[24, 70, 120]\n"
          ],
          "name": "stdout"
        }
      ]
    },
    {
      "cell_type": "markdown",
      "metadata": {
        "id": "3LYPCn1k5QuE",
        "colab_type": "text"
      },
      "source": [
        "\n",
        "Question:\n",
        "By using list comprehension, please write a program generate a 3*5*8 3D array whose each element is 0.\n",
        "\n",
        "Hints:\n",
        "Use list comprehension to make an array.\n",
        "\n"
      ]
    },
    {
      "cell_type": "code",
      "metadata": {
        "id": "QHWIEENh5QuF",
        "colab_type": "code",
        "colab": {}
      },
      "source": [
        "size = 358\n",
        "\n",
        "print([[[0 for k in range(size)] for j in range(size)] for i in range(size)])"
      ],
      "execution_count": 0,
      "outputs": []
    },
    {
      "cell_type": "markdown",
      "metadata": {
        "id": "_pYXalCY5QuK",
        "colab_type": "text"
      },
      "source": [
        "\n",
        "Question:\n",
        "By using list comprehension, please write a program to print the list after removing the 0th,4th,5th numbers in [12,24,35,70,88,120,155].\n",
        "\n",
        "Hints:\n",
        "Use list comprehension to delete a bunch of element from a list.\n",
        "Use enumerate() to get (index, value) tuple.\n",
        "\n"
      ]
    },
    {
      "cell_type": "code",
      "metadata": {
        "id": "Up3dB4a25QuK",
        "colab_type": "code",
        "outputId": "ed3c9604-e13f-47f0-cc19-eff980fbe554",
        "colab": {
          "base_uri": "https://localhost:8080/",
          "height": 35
        }
      },
      "source": [
        "# hey, have a look two questions up ^ :)\n",
        "\n",
        "input = [12,24,35,70,88,120,155]\n",
        "idx_to_remove = [0, 4, 5]\n",
        "\n",
        "print([input[i] for i in range(len(input)) if i not in idx_to_remove])"
      ],
      "execution_count": 0,
      "outputs": [
        {
          "output_type": "stream",
          "text": [
            "[24, 35, 70, 155]\n"
          ],
          "name": "stdout"
        }
      ]
    },
    {
      "cell_type": "markdown",
      "metadata": {
        "id": "BdEFCwLH5QuM",
        "colab_type": "text"
      },
      "source": [
        "\n",
        "Question:\n",
        "By using list comprehension, please write a program to print the list after removing the value 24 in [12,24,35,24,88,120,155].\n",
        "\n",
        "Hints:\n",
        "Use list's remove method to delete a value.\n",
        "\n"
      ]
    },
    {
      "cell_type": "code",
      "metadata": {
        "id": "UVCJ68Vm5QuM",
        "colab_type": "code",
        "outputId": "509d3dae-02f4-4308-da12-775902f21045",
        "colab": {
          "base_uri": "https://localhost:8080/",
          "height": 35
        }
      },
      "source": [
        "input = [12,24,35,24,88,120,155]\n",
        "to_remove = 24\n",
        "\n",
        "print([i for i in input if i != to_remove])"
      ],
      "execution_count": 0,
      "outputs": [
        {
          "output_type": "stream",
          "text": [
            "[12, 35, 88, 120, 155]\n"
          ],
          "name": "stdout"
        }
      ]
    },
    {
      "cell_type": "markdown",
      "metadata": {
        "id": "0BwMMkS75QuN",
        "colab_type": "text"
      },
      "source": [
        "\n",
        "Question:\n",
        "With two given lists [1,3,6,78,35,55] and [12,24,35,24,88,120,155], write a program to make a list whose elements are intersection of the above given lists.\n",
        "\n",
        "Hints:\n",
        "Use set() and '&=' to do set intersection operation.\n",
        "\n"
      ]
    },
    {
      "cell_type": "code",
      "metadata": {
        "id": "e_7xSZgH5QuO",
        "colab_type": "code",
        "outputId": "627c8668-7ccc-4d88-dd1d-8d41b0846d41",
        "colab": {
          "base_uri": "https://localhost:8080/",
          "height": 35
        }
      },
      "source": [
        "list_1 = [1,3,6,78,35,55]\n",
        "list_2 = [12,24,35,24,88,120,155]\n",
        "\n",
        "print(list(set(list_1) & set(list_2)))"
      ],
      "execution_count": 3,
      "outputs": [
        {
          "output_type": "stream",
          "text": [
            "[35]\n"
          ],
          "name": "stdout"
        }
      ]
    },
    {
      "cell_type": "markdown",
      "metadata": {
        "id": "XOZBZi-T5QuP",
        "colab_type": "text"
      },
      "source": [
        "\n",
        "With a given list [12,24,35,24,88,120,155,88,120,155], write a program to print this list after removing all duplicate values with original order reserved.\n",
        "\n",
        "Hints:\n",
        "Use set() to store a number of values without duplicate.\n",
        "\n"
      ]
    },
    {
      "cell_type": "code",
      "metadata": {
        "id": "wo6JMepp5QuP",
        "colab_type": "code",
        "outputId": "fa3c3e87-342d-4600-a83b-1f73bae1876e",
        "colab": {
          "base_uri": "https://localhost:8080/",
          "height": 35
        }
      },
      "source": [
        "input = [12,24,35,24,88,120,155,88,120,155]\n",
        "\n",
        "print(list(set(input))[::-1]) # what do you want to happen first?"
      ],
      "execution_count": 0,
      "outputs": [
        {
          "output_type": "stream",
          "text": [
            "[120, 88, 24, 155, 12, 35]\n"
          ],
          "name": "stdout"
        }
      ]
    },
    {
      "cell_type": "markdown",
      "metadata": {
        "id": "by33-GdV5QuR",
        "colab_type": "text"
      },
      "source": [
        "\n",
        "Question:\n",
        "Define a class Person and its two child classes: Male and Female. All classes have a method 'getGender' which can print 'Male' for Male class and 'Female' for Female class.\n",
        "\n",
        "Hints:\n",
        "Use Subclass(Parentclass) to define a child class.\n",
        "\n"
      ]
    },
    {
      "cell_type": "code",
      "metadata": {
        "id": "RPgnhVD65QuR",
        "colab_type": "code",
        "outputId": "103a244f-c783-475a-c358-4ef352f669f7",
        "colab": {
          "base_uri": "https://localhost:8080/",
          "height": 35
        }
      },
      "source": [
        "class Person:\n",
        "    def get_gender(self):\n",
        "        print(self.gender)\n",
        "\n",
        "class Male(Person):\n",
        "  def __init__(self):\n",
        "    super().__init__()\n",
        "    self.gender = 'Male'\n",
        "\n",
        "class Female(Person):\n",
        "  def __init__(self):\n",
        "    super().__init__()\n",
        "    self.gender = 'Female'\n",
        "\n",
        "a_person = Male()\n",
        "a_person.get_gender()"
      ],
      "execution_count": 0,
      "outputs": [
        {
          "output_type": "stream",
          "text": [
            "Male\n"
          ],
          "name": "stdout"
        }
      ]
    },
    {
      "cell_type": "markdown",
      "metadata": {
        "id": "037ulDON5QuS",
        "colab_type": "text"
      },
      "source": [
        "\n",
        "Question:\n",
        "Please write a program which count and print the numbers of each character in a string input by console.\n",
        "Example:\n",
        "If the following string is given as input to the program:\n",
        "abcdefgabc\n",
        "Then, the output of the program should be:\n",
        "a,2\n",
        "c,2\n",
        "b,2\n",
        "e,1\n",
        "d,1\n",
        "g,1\n",
        "f,1\n",
        "\n",
        "Hints:\n",
        "Use dict to store key/value pairs.\n",
        "Use dict.get() method to lookup a key with default value.\n",
        "\n"
      ]
    },
    {
      "cell_type": "code",
      "metadata": {
        "id": "wKUWmewy5QuT",
        "colab_type": "code",
        "outputId": "a806abdd-5dbe-49e3-d0b8-ba25847432b9",
        "colab": {
          "base_uri": "https://localhost:8080/",
          "height": 35
        }
      },
      "source": [
        "input = \"abcdefgabc\"\n",
        "output = {}\n",
        "\n",
        "for i in input:\n",
        "    if (i in output):\n",
        "        output[i] += 1\n",
        "    else:\n",
        "        output[i] = 1\n",
        "\n",
        "print(output)"
      ],
      "execution_count": 0,
      "outputs": [
        {
          "output_type": "stream",
          "text": [
            "{'a': 2, 'b': 2, 'c': 2, 'd': 1, 'e': 1, 'f': 1, 'g': 1}\n"
          ],
          "name": "stdout"
        }
      ]
    },
    {
      "cell_type": "markdown",
      "metadata": {
        "id": "9YVl0laF5QuU",
        "colab_type": "text"
      },
      "source": [
        "\n",
        "Question:\n",
        "Please write a program which accepts a string from console and print it in reverse order.\n",
        "Example:\n",
        "If the following string is given as input to the program:\n",
        "rise to vote sir\n",
        "Then, the output of the program should be:\n",
        "ris etov ot esir\n",
        "\n",
        "Hints:\n",
        "Use list[::-1] to iterate a list in a reverse order.\n",
        "\n"
      ]
    },
    {
      "cell_type": "code",
      "metadata": {
        "id": "o5kV3E-a5QuU",
        "colab_type": "code",
        "outputId": "3e07b8a4-fc85-4c3d-e46a-d94d07f531d1",
        "colab": {
          "base_uri": "https://localhost:8080/",
          "height": 35
        }
      },
      "source": [
        "input = \"rise to vote sir\"\n",
        "\n",
        "print(input[::-1])"
      ],
      "execution_count": 0,
      "outputs": [
        {
          "output_type": "stream",
          "text": [
            "ris etov ot esir\n"
          ],
          "name": "stdout"
        }
      ]
    },
    {
      "cell_type": "markdown",
      "metadata": {
        "id": "R9j_F-XT5QuY",
        "colab_type": "text"
      },
      "source": [
        "\n",
        "Question:\n",
        "Please write a program which accepts a string from console and print the characters that have even indexes.\n",
        "Example:\n",
        "If the following string is given as input to the program:\n",
        "H1e2l3l4o5w6o7r8l9d\n",
        "Then, the output of the program should be:\n",
        "Helloworld\n",
        "\n",
        "Hints:\n",
        "Use list[::2] to iterate a list by step 2.\n",
        "\n"
      ]
    },
    {
      "cell_type": "code",
      "metadata": {
        "id": "vRB62FK45QuY",
        "colab_type": "code",
        "outputId": "8e9b9932-f845-413b-9fce-568dfb226708",
        "colab": {
          "base_uri": "https://localhost:8080/",
          "height": 35
        }
      },
      "source": [
        "input = \"H1e2l3l4o5w6o7r8l9d\"\n",
        "\n",
        "print(input[::2])"
      ],
      "execution_count": 0,
      "outputs": [
        {
          "output_type": "stream",
          "text": [
            "Helloworld\n"
          ],
          "name": "stdout"
        }
      ]
    },
    {
      "cell_type": "markdown",
      "metadata": {
        "id": "7clConIj5QuZ",
        "colab_type": "text"
      },
      "source": [
        "\n",
        "\n",
        "Question:\n",
        "Please write a program which prints all permutations of [1,2,3]\n",
        "\n",
        "\n",
        "Hints:\n",
        "Use itertools.permutations() to get permutations of list.\n",
        "\n"
      ]
    },
    {
      "cell_type": "code",
      "metadata": {
        "id": "PG7m5-uK5Qua",
        "colab_type": "code",
        "outputId": "bbe8bd5e-fb84-4edb-9ab6-2d0e202067ee",
        "colab": {
          "base_uri": "https://localhost:8080/",
          "height": 35
        }
      },
      "source": [
        "import itertools\n",
        "\n",
        "input = [1,2,3]\n",
        "\n",
        "print(list(itertools.permutations(input)))"
      ],
      "execution_count": 2,
      "outputs": [
        {
          "output_type": "stream",
          "text": [
            "[(1, 2, 3), (1, 3, 2), (2, 1, 3), (2, 3, 1), (3, 1, 2), (3, 2, 1)]\n"
          ],
          "name": "stdout"
        }
      ]
    },
    {
      "cell_type": "markdown",
      "metadata": {
        "id": "RW_N8WxE5Quc",
        "colab_type": "text"
      },
      "source": [
        "\n",
        "Question:\n",
        "Write a program to solve a classic ancient Chinese puzzle: \n",
        "We count 35 heads and 94 legs among the chickens and rabbits in a farm. How many rabbits and how many chickens do we have?\n",
        "Hint:\n",
        "Use for loop to iterate all possible solutions.\n",
        "\n"
      ]
    },
    {
      "cell_type": "code",
      "metadata": {
        "id": "ZBj4ISLj5Qud",
        "colab_type": "code",
        "outputId": "b5733cd5-d66d-40b4-f9f7-db76cbdadc45",
        "colab": {
          "base_uri": "https://localhost:8080/",
          "height": 35
        }
      },
      "source": [
        "heads = 35\n",
        "legs = 94\n",
        "\n",
        "rabbits = 0\n",
        "for i in range(heads):\n",
        "    if ((legs - (i*4)) / 2 == heads - i):\n",
        "        rabbits = i\n",
        "        break\n",
        "\n",
        "print(f'there are {rabbits} rabbits and {heads - rabbits} chikens in the farm.') "
      ],
      "execution_count": 0,
      "outputs": [
        {
          "output_type": "stream",
          "text": [
            "there are 12 rabbits and 23 chikens in the farm.\n"
          ],
          "name": "stdout"
        }
      ]
    },
    {
      "cell_type": "markdown",
      "metadata": {
        "id": "Lt7KpzyT5Que",
        "colab_type": "text"
      },
      "source": [
        "## Recursion  execrcises"
      ]
    },
    {
      "cell_type": "markdown",
      "metadata": {
        "id": "zEKilErO5Quf",
        "colab_type": "text"
      },
      "source": [
        "Question: Print the first 20 numbers in fibonacci sequence."
      ]
    },
    {
      "cell_type": "code",
      "metadata": {
        "id": "5lpbxPhe5Quf",
        "colab_type": "code",
        "colab": {}
      },
      "source": [
        ""
      ],
      "execution_count": 0,
      "outputs": []
    },
    {
      "cell_type": "markdown",
      "metadata": {
        "id": "CE5_m0CJ5Quh",
        "colab_type": "text"
      },
      "source": [
        "Question: Write a function to compute the factorial of n."
      ]
    },
    {
      "cell_type": "code",
      "metadata": {
        "id": "HpX0J9BW5Quh",
        "colab_type": "code",
        "colab": {}
      },
      "source": [
        ""
      ],
      "execution_count": 0,
      "outputs": []
    },
    {
      "cell_type": "markdown",
      "metadata": {
        "id": "GkjHS3xq5Quj",
        "colab_type": "text"
      },
      "source": [
        "Question: Write a Python program of recursion list sum.\n",
        "Example: [1, 2, [3,4], [5,6]]\n",
        "Expected Result: 21"
      ]
    },
    {
      "cell_type": "code",
      "metadata": {
        "id": "Ch_aR8Db5Quk",
        "colab_type": "code",
        "colab": {}
      },
      "source": [
        ""
      ],
      "execution_count": 0,
      "outputs": []
    }
  ]
}